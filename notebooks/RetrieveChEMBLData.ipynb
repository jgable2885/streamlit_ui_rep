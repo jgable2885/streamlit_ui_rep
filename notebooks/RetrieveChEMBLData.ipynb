{
 "cells": [
  {
   "cell_type": "markdown",
   "id": "abd98ddd",
   "metadata": {},
   "source": [
    "## Installs and imports"
   ]
  },
  {
   "cell_type": "code",
   "execution_count": 1,
   "id": "3aa897e1",
   "metadata": {},
   "outputs": [
    {
     "name": "stdout",
     "output_type": "stream",
     "text": [
      "Collecting chembl_webresource_client\n",
      "  Downloading chembl_webresource_client-0.10.8-py3-none-any.whl (55 kB)\n",
      "\u001b[2K     \u001b[90m━━━━━━━━━━━━━━━━━━━━━━━━━━━━━━━━━━━━━━━━\u001b[0m \u001b[32m55.2/55.2 kB\u001b[0m \u001b[31m3.8 MB/s\u001b[0m eta \u001b[36m0:00:00\u001b[0m\n",
      "\u001b[?25hCollecting requests-cache~=0.7.0\n",
      "  Downloading requests_cache-0.7.5-py3-none-any.whl (39 kB)\n",
      "Collecting easydict\n",
      "  Downloading easydict-1.10.tar.gz (6.4 kB)\n",
      "  Preparing metadata (setup.py) ... \u001b[?25ldone\n",
      "\u001b[?25hCollecting urllib3\n",
      "  Downloading urllib3-1.26.14-py2.py3-none-any.whl (140 kB)\n",
      "\u001b[2K     \u001b[90m━━━━━━━━━━━━━━━━━━━━━━━━━━━━━━━━━━━━━━━\u001b[0m \u001b[32m140.6/140.6 kB\u001b[0m \u001b[31m8.1 MB/s\u001b[0m eta \u001b[36m0:00:00\u001b[0m\n",
      "\u001b[?25hCollecting requests>=2.18.4\n",
      "  Downloading requests-2.28.2-py3-none-any.whl (62 kB)\n",
      "\u001b[2K     \u001b[90m━━━━━━━━━━━━━━━━━━━━━━━━━━━━━━━━━━━━━━━━\u001b[0m \u001b[32m62.8/62.8 kB\u001b[0m \u001b[31m4.7 MB/s\u001b[0m eta \u001b[36m0:00:00\u001b[0m\n",
      "\u001b[?25hCollecting certifi>=2017.4.17\n",
      "  Downloading certifi-2022.12.7-py3-none-any.whl (155 kB)\n",
      "\u001b[2K     \u001b[90m━━━━━━━━━━━━━━━━━━━━━━━━━━━━━━━━━━━━━━\u001b[0m \u001b[32m155.3/155.3 kB\u001b[0m \u001b[31m13.9 MB/s\u001b[0m eta \u001b[36m0:00:00\u001b[0m\n",
      "\u001b[?25hCollecting charset-normalizer<4,>=2\n",
      "  Downloading charset_normalizer-3.1.0-cp310-cp310-macosx_10_9_x86_64.whl (124 kB)\n",
      "\u001b[2K     \u001b[90m━━━━━━━━━━━━━━━━━━━━━━━━━━━━━━━━━━━━━━━\u001b[0m \u001b[32m124.8/124.8 kB\u001b[0m \u001b[31m9.7 MB/s\u001b[0m eta \u001b[36m0:00:00\u001b[0m\n",
      "\u001b[?25hCollecting idna<4,>=2.5\n",
      "  Downloading idna-3.4-py3-none-any.whl (61 kB)\n",
      "\u001b[2K     \u001b[90m━━━━━━━━━━━━━━━━━━━━━━━━━━━━━━━━━━━━━━━━\u001b[0m \u001b[32m61.5/61.5 kB\u001b[0m \u001b[31m5.2 MB/s\u001b[0m eta \u001b[36m0:00:00\u001b[0m\n",
      "\u001b[?25hCollecting url-normalize<2.0,>=1.4\n",
      "  Downloading url_normalize-1.4.3-py2.py3-none-any.whl (6.8 kB)\n",
      "Collecting pyyaml>=5.4\n",
      "  Downloading PyYAML-6.0-cp310-cp310-macosx_10_9_x86_64.whl (197 kB)\n",
      "\u001b[2K     \u001b[90m━━━━━━━━━━━━━━━━━━━━━━━━━━━━━━━━━━━━━━━\u001b[0m \u001b[32m197.6/197.6 kB\u001b[0m \u001b[31m9.9 MB/s\u001b[0m eta \u001b[36m0:00:00\u001b[0m\n",
      "\u001b[?25hCollecting itsdangerous>=2.0.1\n",
      "  Downloading itsdangerous-2.1.2-py3-none-any.whl (15 kB)\n",
      "Collecting attrs<22.0,>=21.2\n",
      "  Downloading attrs-21.4.0-py2.py3-none-any.whl (60 kB)\n",
      "\u001b[2K     \u001b[90m━━━━━━━━━━━━━━━━━━━━━━━━━━━━━━━━━━━━━━━━\u001b[0m \u001b[32m60.6/60.6 kB\u001b[0m \u001b[31m5.4 MB/s\u001b[0m eta \u001b[36m0:00:00\u001b[0m\n",
      "\u001b[?25hRequirement already satisfied: six in /Library/Frameworks/Python.framework/Versions/3.10/lib/python3.10/site-packages (from url-normalize<2.0,>=1.4->requests-cache~=0.7.0->chembl_webresource_client) (1.16.0)\n",
      "Building wheels for collected packages: easydict\n",
      "  Building wheel for easydict (setup.py) ... \u001b[?25ldone\n",
      "\u001b[?25h  Created wheel for easydict: filename=easydict-1.10-py3-none-any.whl size=6492 sha256=be24365d02c09440bef22413b7120eb10ab290c466de18a7f95788ed7a0d4bde\n",
      "  Stored in directory: /Users/jgmacbook/Library/Caches/pip/wheels/b7/e3/8c/f814820ac7ef5fd96f38759ce0d3dc51166a3169008b31da53\n",
      "Successfully built easydict\n",
      "Installing collected packages: easydict, urllib3, url-normalize, pyyaml, itsdangerous, idna, charset-normalizer, certifi, attrs, requests, requests-cache, chembl_webresource_client\n",
      "  Attempting uninstall: attrs\n",
      "    Found existing installation: attrs 22.1.0\n",
      "    Uninstalling attrs-22.1.0:\n",
      "      Successfully uninstalled attrs-22.1.0\n",
      "Successfully installed attrs-21.4.0 certifi-2022.12.7 charset-normalizer-3.1.0 chembl_webresource_client-0.10.8 easydict-1.10 idna-3.4 itsdangerous-2.1.2 pyyaml-6.0 requests-2.28.2 requests-cache-0.7.5 url-normalize-1.4.3 urllib3-1.26.14\n",
      "\n",
      "\u001b[1m[\u001b[0m\u001b[34;49mnotice\u001b[0m\u001b[1;39;49m]\u001b[0m\u001b[39;49m A new release of pip available: \u001b[0m\u001b[31;49m22.2.2\u001b[0m\u001b[39;49m -> \u001b[0m\u001b[32;49m23.0.1\u001b[0m\n",
      "\u001b[1m[\u001b[0m\u001b[34;49mnotice\u001b[0m\u001b[1;39;49m]\u001b[0m\u001b[39;49m To update, run: \u001b[0m\u001b[32;49mpip install --upgrade pip\u001b[0m\n"
     ]
    }
   ],
   "source": [
    "!pip install chembl_webresource_client"
   ]
  },
  {
   "cell_type": "code",
   "execution_count": 2,
   "id": "15db6faa",
   "metadata": {},
   "outputs": [
    {
     "name": "stdout",
     "output_type": "stream",
     "text": [
      "Collecting deepchem\n",
      "  Downloading deepchem-2.7.1-py3-none-any.whl (693 kB)\n",
      "\u001b[2K     \u001b[90m━━━━━━━━━━━━━━━━━━━━━━━━━━━━━━━━━━━━━━━\u001b[0m \u001b[32m693.2/693.2 kB\u001b[0m \u001b[31m5.4 MB/s\u001b[0m eta \u001b[36m0:00:00\u001b[0m00:01\u001b[0m\n",
      "\u001b[?25hRequirement already satisfied: pandas in /Library/Frameworks/Python.framework/Versions/3.10/lib/python3.10/site-packages (from deepchem) (1.5.0)\n",
      "Requirement already satisfied: joblib in /Library/Frameworks/Python.framework/Versions/3.10/lib/python3.10/site-packages (from deepchem) (1.2.0)\n",
      "Collecting scipy<1.9\n",
      "  Downloading scipy-1.8.1-cp310-cp310-macosx_12_0_universal2.macosx_10_9_x86_64.whl (55.7 MB)\n",
      "\u001b[2K     \u001b[90m━━━━━━━━━━━━━━━━━━━━━━━━━━━━━━━━━━━━━━━━\u001b[0m \u001b[32m55.7/55.7 MB\u001b[0m \u001b[31m19.8 MB/s\u001b[0m eta \u001b[36m0:00:00\u001b[0m00:01\u001b[0m00:01\u001b[0m\n",
      "\u001b[?25hRequirement already satisfied: scikit-learn in /Library/Frameworks/Python.framework/Versions/3.10/lib/python3.10/site-packages (from deepchem) (1.1.2)\n",
      "Collecting rdkit\n",
      "  Downloading rdkit-2022.9.5-cp310-cp310-macosx_10_9_x86_64.whl (24.8 MB)\n",
      "\u001b[2K     \u001b[90m━━━━━━━━━━━━━━━━━━━━━━━━━━━━━━━━━━━━━━━━\u001b[0m \u001b[32m24.8/24.8 MB\u001b[0m \u001b[31m17.2 MB/s\u001b[0m eta \u001b[36m0:00:00\u001b[0m00:01\u001b[0m00:01\u001b[0m\n",
      "\u001b[?25hRequirement already satisfied: numpy>=1.21 in /Library/Frameworks/Python.framework/Versions/3.10/lib/python3.10/site-packages (from deepchem) (1.23.3)\n",
      "Requirement already satisfied: python-dateutil>=2.8.1 in /Library/Frameworks/Python.framework/Versions/3.10/lib/python3.10/site-packages (from pandas->deepchem) (2.8.2)\n",
      "Requirement already satisfied: pytz>=2020.1 in /Library/Frameworks/Python.framework/Versions/3.10/lib/python3.10/site-packages (from pandas->deepchem) (2022.2.1)\n",
      "Requirement already satisfied: Pillow in /Library/Frameworks/Python.framework/Versions/3.10/lib/python3.10/site-packages (from rdkit->deepchem) (9.2.0)\n",
      "Requirement already satisfied: threadpoolctl>=2.0.0 in /Library/Frameworks/Python.framework/Versions/3.10/lib/python3.10/site-packages (from scikit-learn->deepchem) (3.1.0)\n",
      "Requirement already satisfied: six>=1.5 in /Library/Frameworks/Python.framework/Versions/3.10/lib/python3.10/site-packages (from python-dateutil>=2.8.1->pandas->deepchem) (1.16.0)\n",
      "Installing collected packages: scipy, rdkit, deepchem\n",
      "  Attempting uninstall: scipy\n",
      "    Found existing installation: scipy 1.9.1\n",
      "    Uninstalling scipy-1.9.1:\n",
      "      Successfully uninstalled scipy-1.9.1\n",
      "Successfully installed deepchem-2.7.1 rdkit-2022.9.5 scipy-1.8.1\n",
      "\n",
      "\u001b[1m[\u001b[0m\u001b[34;49mnotice\u001b[0m\u001b[1;39;49m]\u001b[0m\u001b[39;49m A new release of pip available: \u001b[0m\u001b[31;49m22.2.2\u001b[0m\u001b[39;49m -> \u001b[0m\u001b[32;49m23.0.1\u001b[0m\n",
      "\u001b[1m[\u001b[0m\u001b[34;49mnotice\u001b[0m\u001b[1;39;49m]\u001b[0m\u001b[39;49m To update, run: \u001b[0m\u001b[32;49mpip install --upgrade pip\u001b[0m\n"
     ]
    }
   ],
   "source": [
    "!pip install deepchem"
   ]
  },
  {
   "cell_type": "code",
   "execution_count": 4,
   "id": "34628c28",
   "metadata": {},
   "outputs": [
    {
     "name": "stdout",
     "output_type": "stream",
     "text": [
      "Collecting tqdm\n",
      "  Downloading tqdm-4.65.0-py3-none-any.whl (77 kB)\n",
      "\u001b[2K     \u001b[90m━━━━━━━━━━━━━━━━━━━━━━━━━━━━━━━━━━━━━━━━\u001b[0m \u001b[32m77.1/77.1 kB\u001b[0m \u001b[31m1.8 MB/s\u001b[0m eta \u001b[36m0:00:00\u001b[0ma \u001b[36m0:00:01\u001b[0m\n",
      "\u001b[?25hInstalling collected packages: tqdm\n",
      "Successfully installed tqdm-4.65.0\n",
      "\n",
      "\u001b[1m[\u001b[0m\u001b[34;49mnotice\u001b[0m\u001b[1;39;49m]\u001b[0m\u001b[39;49m A new release of pip available: \u001b[0m\u001b[31;49m22.2.2\u001b[0m\u001b[39;49m -> \u001b[0m\u001b[32;49m23.0.1\u001b[0m\n",
      "\u001b[1m[\u001b[0m\u001b[34;49mnotice\u001b[0m\u001b[1;39;49m]\u001b[0m\u001b[39;49m To update, run: \u001b[0m\u001b[32;49mpip install --upgrade pip\u001b[0m\n"
     ]
    }
   ],
   "source": [
    "!pip install tqdm"
   ]
  },
  {
   "cell_type": "code",
   "execution_count": 4,
   "id": "afff7014",
   "metadata": {},
   "outputs": [
    {
     "name": "stderr",
     "output_type": "stream",
     "text": [
      "/Library/Frameworks/Python.framework/Versions/3.10/lib/python3.10/site-packages/tqdm/auto.py:21: TqdmWarning: IProgress not found. Please update jupyter and ipywidgets. See https://ipywidgets.readthedocs.io/en/stable/user_install.html\n",
      "  from .autonotebook import tqdm as notebook_tqdm\n"
     ]
    }
   ],
   "source": [
    "import math\n",
    "from pathlib import Path\n",
    "from zipfile import ZipFile\n",
    "from tempfile import TemporaryDirectory\n",
    "\n",
    "import numpy as np\n",
    "import pandas as pd\n",
    "\n",
    "from rdkit.Chem import PandasTools\n",
    "\n",
    "from chembl_webresource_client.new_client import new_client\n",
    "from tqdm.auto import tqdm"
   ]
  },
  {
   "cell_type": "markdown",
   "id": "f123abdf",
   "metadata": {},
   "source": [
    "## Retrieve data from ChEMBL (this takes many hours to run)\n",
    "Adapted from: https://github.com/chembl/notebooks/blob/main/ChEMBL_webresource_client_examples.ipynb"
   ]
  },
  {
   "cell_type": "code",
   "execution_count": 6,
   "id": "1c5c0a5d",
   "metadata": {},
   "outputs": [
    {
     "data": {
      "text/plain": [
       "chembl_webresource_client.query_set.QuerySet"
      ]
     },
     "execution_count": 6,
     "metadata": {},
     "output_type": "execute_result"
    }
   ],
   "source": [
    "targets_api = new_client.target\n",
    "compounds_api = new_client.molecule\n",
    "bioactivities_api = new_client.activity\n",
    "type(targets_api)"
   ]
  },
  {
   "cell_type": "markdown",
   "id": "f9465080",
   "metadata": {},
   "source": [
    "## Get bioactivity data (no structures)"
   ]
  },
  {
   "cell_type": "code",
   "execution_count": 7,
   "id": "0116457c",
   "metadata": {},
   "outputs": [
    {
     "data": {
      "text/plain": [
       "58459"
      ]
     },
     "execution_count": 7,
     "metadata": {},
     "output_type": "execute_result"
    }
   ],
   "source": [
    "bioactivities = bioactivities_api.filter(\n",
    "    target_chembl_id='CHEMBL395', assay_chembl_id =\"CHEMBL1794553\"\n",
    ").only(\n",
    "    \"activity_id\",\n",
    "    \"assay_chembl_id\",\n",
    "    \"assay_description\",\n",
    "    \"assay_type\",\n",
    "    \"molecule_chembl_id\",\n",
    "    \"type\",\n",
    "    \"standard_units\",\n",
    "    \"relation\",\n",
    "    \"standard_value\",\n",
    "    \"target_chembl_id\",\n",
    "    \"target_organism\",\n",
    ")\n",
    "len(bioactivities)"
   ]
  },
  {
   "cell_type": "code",
   "execution_count": 10,
   "id": "984a5f49",
   "metadata": {},
   "outputs": [
    {
     "name": "stdout",
     "output_type": "stream",
     "text": [
      "DataFrame shape: (58460, 13)\n"
     ]
    },
    {
     "data": {
      "text/html": [
       "<div>\n",
       "<style scoped>\n",
       "    .dataframe tbody tr th:only-of-type {\n",
       "        vertical-align: middle;\n",
       "    }\n",
       "\n",
       "    .dataframe tbody tr th {\n",
       "        vertical-align: top;\n",
       "    }\n",
       "\n",
       "    .dataframe thead th {\n",
       "        text-align: right;\n",
       "    }\n",
       "</style>\n",
       "<table border=\"1\" class=\"dataframe\">\n",
       "  <thead>\n",
       "    <tr style=\"text-align: right;\">\n",
       "      <th></th>\n",
       "      <th>activity_id</th>\n",
       "      <th>assay_chembl_id</th>\n",
       "      <th>assay_description</th>\n",
       "      <th>assay_type</th>\n",
       "      <th>molecule_chembl_id</th>\n",
       "      <th>relation</th>\n",
       "      <th>standard_units</th>\n",
       "      <th>standard_value</th>\n",
       "      <th>target_chembl_id</th>\n",
       "      <th>target_organism</th>\n",
       "      <th>type</th>\n",
       "      <th>units</th>\n",
       "      <th>value</th>\n",
       "    </tr>\n",
       "  </thead>\n",
       "  <tbody>\n",
       "    <tr>\n",
       "      <th>0</th>\n",
       "      <td>6961561</td>\n",
       "      <td>CHEMBL1794553</td>\n",
       "      <td>PUBCHEM_BIOASSAY: qHTS for Inhibitors of TGF-b...</td>\n",
       "      <td>F</td>\n",
       "      <td>CHEMBL1315471</td>\n",
       "      <td>None</td>\n",
       "      <td>nM</td>\n",
       "      <td>35481.3</td>\n",
       "      <td>CHEMBL395</td>\n",
       "      <td>Homo sapiens</td>\n",
       "      <td>Potency</td>\n",
       "      <td>uM</td>\n",
       "      <td>35.4813</td>\n",
       "    </tr>\n",
       "    <tr>\n",
       "      <th>1</th>\n",
       "      <td>6958176</td>\n",
       "      <td>CHEMBL1794553</td>\n",
       "      <td>PUBCHEM_BIOASSAY: qHTS for Inhibitors of TGF-b...</td>\n",
       "      <td>F</td>\n",
       "      <td>CHEMBL1511566</td>\n",
       "      <td>None</td>\n",
       "      <td>nM</td>\n",
       "      <td>2818.4</td>\n",
       "      <td>CHEMBL395</td>\n",
       "      <td>Homo sapiens</td>\n",
       "      <td>Potency</td>\n",
       "      <td>uM</td>\n",
       "      <td>2.8184</td>\n",
       "    </tr>\n",
       "    <tr>\n",
       "      <th>2</th>\n",
       "      <td>6958177</td>\n",
       "      <td>CHEMBL1794553</td>\n",
       "      <td>PUBCHEM_BIOASSAY: qHTS for Inhibitors of TGF-b...</td>\n",
       "      <td>F</td>\n",
       "      <td>CHEMBL1904108</td>\n",
       "      <td>None</td>\n",
       "      <td>nM</td>\n",
       "      <td>35481.3</td>\n",
       "      <td>CHEMBL395</td>\n",
       "      <td>Homo sapiens</td>\n",
       "      <td>Potency</td>\n",
       "      <td>uM</td>\n",
       "      <td>35.4813</td>\n",
       "    </tr>\n",
       "    <tr>\n",
       "      <th>3</th>\n",
       "      <td>6958178</td>\n",
       "      <td>CHEMBL1794553</td>\n",
       "      <td>PUBCHEM_BIOASSAY: qHTS for Inhibitors of TGF-b...</td>\n",
       "      <td>F</td>\n",
       "      <td>CHEMBL1369478</td>\n",
       "      <td>None</td>\n",
       "      <td>nM</td>\n",
       "      <td>35481.3</td>\n",
       "      <td>CHEMBL395</td>\n",
       "      <td>Homo sapiens</td>\n",
       "      <td>Potency</td>\n",
       "      <td>uM</td>\n",
       "      <td>35.4813</td>\n",
       "    </tr>\n",
       "    <tr>\n",
       "      <th>4</th>\n",
       "      <td>6958179</td>\n",
       "      <td>CHEMBL1794553</td>\n",
       "      <td>PUBCHEM_BIOASSAY: qHTS for Inhibitors of TGF-b...</td>\n",
       "      <td>F</td>\n",
       "      <td>CHEMBL1200833</td>\n",
       "      <td>None</td>\n",
       "      <td>nM</td>\n",
       "      <td>12589.3</td>\n",
       "      <td>CHEMBL395</td>\n",
       "      <td>Homo sapiens</td>\n",
       "      <td>Potency</td>\n",
       "      <td>uM</td>\n",
       "      <td>12.5893</td>\n",
       "    </tr>\n",
       "  </tbody>\n",
       "</table>\n",
       "</div>"
      ],
      "text/plain": [
       "   activity_id assay_chembl_id  \\\n",
       "0      6961561   CHEMBL1794553   \n",
       "1      6958176   CHEMBL1794553   \n",
       "2      6958177   CHEMBL1794553   \n",
       "3      6958178   CHEMBL1794553   \n",
       "4      6958179   CHEMBL1794553   \n",
       "\n",
       "                                   assay_description assay_type  \\\n",
       "0  PUBCHEM_BIOASSAY: qHTS for Inhibitors of TGF-b...          F   \n",
       "1  PUBCHEM_BIOASSAY: qHTS for Inhibitors of TGF-b...          F   \n",
       "2  PUBCHEM_BIOASSAY: qHTS for Inhibitors of TGF-b...          F   \n",
       "3  PUBCHEM_BIOASSAY: qHTS for Inhibitors of TGF-b...          F   \n",
       "4  PUBCHEM_BIOASSAY: qHTS for Inhibitors of TGF-b...          F   \n",
       "\n",
       "  molecule_chembl_id relation standard_units standard_value target_chembl_id  \\\n",
       "0      CHEMBL1315471     None             nM        35481.3        CHEMBL395   \n",
       "1      CHEMBL1511566     None             nM         2818.4        CHEMBL395   \n",
       "2      CHEMBL1904108     None             nM        35481.3        CHEMBL395   \n",
       "3      CHEMBL1369478     None             nM        35481.3        CHEMBL395   \n",
       "4      CHEMBL1200833     None             nM        12589.3        CHEMBL395   \n",
       "\n",
       "  target_organism     type units    value  \n",
       "0    Homo sapiens  Potency    uM  35.4813  \n",
       "1    Homo sapiens  Potency    uM   2.8184  \n",
       "2    Homo sapiens  Potency    uM  35.4813  \n",
       "3    Homo sapiens  Potency    uM  35.4813  \n",
       "4    Homo sapiens  Potency    uM  12.5893  "
      ]
     },
     "execution_count": 10,
     "metadata": {},
     "output_type": "execute_result"
    }
   ],
   "source": [
    "bioactivities_df = pd.DataFrame.from_records(bioactivities)\n",
    "print(f\"DataFrame shape: {bioactivities_df.shape}\")\n",
    "bioactivities_df.head()"
   ]
  },
  {
   "cell_type": "code",
   "execution_count": 11,
   "id": "9ffaa68b",
   "metadata": {},
   "outputs": [],
   "source": [
    "bioactivities_df.to_csv(\"HepG2_Bioactives_df.csv\")"
   ]
  },
  {
   "cell_type": "code",
   "execution_count": 21,
   "id": "27a52e4c",
   "metadata": {},
   "outputs": [],
   "source": [
    "bioactivities_df = pd.read_csv(\"HepG2_Bioactives_df.csv\")"
   ]
  },
  {
   "cell_type": "code",
   "execution_count": 22,
   "id": "5b61ece8",
   "metadata": {},
   "outputs": [
    {
     "data": {
      "text/html": [
       "<div>\n",
       "<style scoped>\n",
       "    .dataframe tbody tr th:only-of-type {\n",
       "        vertical-align: middle;\n",
       "    }\n",
       "\n",
       "    .dataframe tbody tr th {\n",
       "        vertical-align: top;\n",
       "    }\n",
       "\n",
       "    .dataframe thead th {\n",
       "        text-align: right;\n",
       "    }\n",
       "</style>\n",
       "<table border=\"1\" class=\"dataframe\">\n",
       "  <thead>\n",
       "    <tr style=\"text-align: right;\">\n",
       "      <th></th>\n",
       "      <th>Unnamed: 0</th>\n",
       "      <th>activity_id</th>\n",
       "      <th>assay_chembl_id</th>\n",
       "      <th>assay_description</th>\n",
       "      <th>assay_type</th>\n",
       "      <th>molecule_chembl_id</th>\n",
       "      <th>relation</th>\n",
       "      <th>standard_units</th>\n",
       "      <th>standard_value</th>\n",
       "      <th>target_chembl_id</th>\n",
       "      <th>target_organism</th>\n",
       "      <th>type</th>\n",
       "      <th>units</th>\n",
       "      <th>value</th>\n",
       "    </tr>\n",
       "  </thead>\n",
       "  <tbody>\n",
       "    <tr>\n",
       "      <th>0</th>\n",
       "      <td>0</td>\n",
       "      <td>6961561</td>\n",
       "      <td>CHEMBL1794553</td>\n",
       "      <td>PUBCHEM_BIOASSAY: qHTS for Inhibitors of TGF-b...</td>\n",
       "      <td>F</td>\n",
       "      <td>CHEMBL1315471</td>\n",
       "      <td>NaN</td>\n",
       "      <td>nM</td>\n",
       "      <td>35481.3</td>\n",
       "      <td>CHEMBL395</td>\n",
       "      <td>Homo sapiens</td>\n",
       "      <td>Potency</td>\n",
       "      <td>uM</td>\n",
       "      <td>35.4813</td>\n",
       "    </tr>\n",
       "    <tr>\n",
       "      <th>1</th>\n",
       "      <td>1</td>\n",
       "      <td>6958176</td>\n",
       "      <td>CHEMBL1794553</td>\n",
       "      <td>PUBCHEM_BIOASSAY: qHTS for Inhibitors of TGF-b...</td>\n",
       "      <td>F</td>\n",
       "      <td>CHEMBL1511566</td>\n",
       "      <td>NaN</td>\n",
       "      <td>nM</td>\n",
       "      <td>2818.4</td>\n",
       "      <td>CHEMBL395</td>\n",
       "      <td>Homo sapiens</td>\n",
       "      <td>Potency</td>\n",
       "      <td>uM</td>\n",
       "      <td>2.8184</td>\n",
       "    </tr>\n",
       "    <tr>\n",
       "      <th>2</th>\n",
       "      <td>2</td>\n",
       "      <td>6958177</td>\n",
       "      <td>CHEMBL1794553</td>\n",
       "      <td>PUBCHEM_BIOASSAY: qHTS for Inhibitors of TGF-b...</td>\n",
       "      <td>F</td>\n",
       "      <td>CHEMBL1904108</td>\n",
       "      <td>NaN</td>\n",
       "      <td>nM</td>\n",
       "      <td>35481.3</td>\n",
       "      <td>CHEMBL395</td>\n",
       "      <td>Homo sapiens</td>\n",
       "      <td>Potency</td>\n",
       "      <td>uM</td>\n",
       "      <td>35.4813</td>\n",
       "    </tr>\n",
       "    <tr>\n",
       "      <th>3</th>\n",
       "      <td>3</td>\n",
       "      <td>6958178</td>\n",
       "      <td>CHEMBL1794553</td>\n",
       "      <td>PUBCHEM_BIOASSAY: qHTS for Inhibitors of TGF-b...</td>\n",
       "      <td>F</td>\n",
       "      <td>CHEMBL1369478</td>\n",
       "      <td>NaN</td>\n",
       "      <td>nM</td>\n",
       "      <td>35481.3</td>\n",
       "      <td>CHEMBL395</td>\n",
       "      <td>Homo sapiens</td>\n",
       "      <td>Potency</td>\n",
       "      <td>uM</td>\n",
       "      <td>35.4813</td>\n",
       "    </tr>\n",
       "    <tr>\n",
       "      <th>4</th>\n",
       "      <td>4</td>\n",
       "      <td>6958179</td>\n",
       "      <td>CHEMBL1794553</td>\n",
       "      <td>PUBCHEM_BIOASSAY: qHTS for Inhibitors of TGF-b...</td>\n",
       "      <td>F</td>\n",
       "      <td>CHEMBL1200833</td>\n",
       "      <td>NaN</td>\n",
       "      <td>nM</td>\n",
       "      <td>12589.3</td>\n",
       "      <td>CHEMBL395</td>\n",
       "      <td>Homo sapiens</td>\n",
       "      <td>Potency</td>\n",
       "      <td>uM</td>\n",
       "      <td>12.5893</td>\n",
       "    </tr>\n",
       "  </tbody>\n",
       "</table>\n",
       "</div>"
      ],
      "text/plain": [
       "   Unnamed: 0  activity_id assay_chembl_id  \\\n",
       "0           0      6961561   CHEMBL1794553   \n",
       "1           1      6958176   CHEMBL1794553   \n",
       "2           2      6958177   CHEMBL1794553   \n",
       "3           3      6958178   CHEMBL1794553   \n",
       "4           4      6958179   CHEMBL1794553   \n",
       "\n",
       "                                   assay_description assay_type  \\\n",
       "0  PUBCHEM_BIOASSAY: qHTS for Inhibitors of TGF-b...          F   \n",
       "1  PUBCHEM_BIOASSAY: qHTS for Inhibitors of TGF-b...          F   \n",
       "2  PUBCHEM_BIOASSAY: qHTS for Inhibitors of TGF-b...          F   \n",
       "3  PUBCHEM_BIOASSAY: qHTS for Inhibitors of TGF-b...          F   \n",
       "4  PUBCHEM_BIOASSAY: qHTS for Inhibitors of TGF-b...          F   \n",
       "\n",
       "  molecule_chembl_id  relation standard_units  standard_value  \\\n",
       "0      CHEMBL1315471       NaN             nM         35481.3   \n",
       "1      CHEMBL1511566       NaN             nM          2818.4   \n",
       "2      CHEMBL1904108       NaN             nM         35481.3   \n",
       "3      CHEMBL1369478       NaN             nM         35481.3   \n",
       "4      CHEMBL1200833       NaN             nM         12589.3   \n",
       "\n",
       "  target_chembl_id target_organism     type units    value  \n",
       "0        CHEMBL395    Homo sapiens  Potency    uM  35.4813  \n",
       "1        CHEMBL395    Homo sapiens  Potency    uM   2.8184  \n",
       "2        CHEMBL395    Homo sapiens  Potency    uM  35.4813  \n",
       "3        CHEMBL395    Homo sapiens  Potency    uM  35.4813  \n",
       "4        CHEMBL395    Homo sapiens  Potency    uM  12.5893  "
      ]
     },
     "execution_count": 22,
     "metadata": {},
     "output_type": "execute_result"
    }
   ],
   "source": [
    "bioactivities_df.head()"
   ]
  },
  {
   "cell_type": "code",
   "execution_count": 23,
   "id": "650d0dc0",
   "metadata": {},
   "outputs": [
    {
     "data": {
      "text/plain": [
       "array(['nM'], dtype=object)"
      ]
     },
     "execution_count": 23,
     "metadata": {},
     "output_type": "execute_result"
    }
   ],
   "source": [
    "bioactivities_df[\"standard_units\"].unique()"
   ]
  },
  {
   "cell_type": "code",
   "execution_count": 24,
   "id": "57d871ee",
   "metadata": {},
   "outputs": [
    {
     "name": "stdout",
     "output_type": "stream",
     "text": [
      "DataFrame shape: (58172, 12)\n"
     ]
    }
   ],
   "source": [
    "bioactivities_df.drop([\"units\", \"value\"], axis=1, inplace=True)\n",
    "bioactivities_df.drop_duplicates(\"molecule_chembl_id\", keep=\"first\", inplace=True)\n",
    "print(f\"DataFrame shape: {bioactivities_df.shape}\")"
   ]
  },
  {
   "cell_type": "code",
   "execution_count": 25,
   "id": "b20e017d",
   "metadata": {},
   "outputs": [
    {
     "data": {
      "text/html": [
       "<div>\n",
       "<style scoped>\n",
       "    .dataframe tbody tr th:only-of-type {\n",
       "        vertical-align: middle;\n",
       "    }\n",
       "\n",
       "    .dataframe tbody tr th {\n",
       "        vertical-align: top;\n",
       "    }\n",
       "\n",
       "    .dataframe thead th {\n",
       "        text-align: right;\n",
       "    }\n",
       "</style>\n",
       "<table border=\"1\" class=\"dataframe\">\n",
       "  <thead>\n",
       "    <tr style=\"text-align: right;\">\n",
       "      <th></th>\n",
       "      <th>Unnamed: 0</th>\n",
       "      <th>activity_id</th>\n",
       "      <th>assay_chembl_id</th>\n",
       "      <th>assay_description</th>\n",
       "      <th>assay_type</th>\n",
       "      <th>molecule_chembl_id</th>\n",
       "      <th>relation</th>\n",
       "      <th>standard_units</th>\n",
       "      <th>standard_value</th>\n",
       "      <th>target_chembl_id</th>\n",
       "      <th>target_organism</th>\n",
       "      <th>type</th>\n",
       "    </tr>\n",
       "  </thead>\n",
       "  <tbody>\n",
       "    <tr>\n",
       "      <th>0</th>\n",
       "      <td>0</td>\n",
       "      <td>6961561</td>\n",
       "      <td>CHEMBL1794553</td>\n",
       "      <td>PUBCHEM_BIOASSAY: qHTS for Inhibitors of TGF-b...</td>\n",
       "      <td>F</td>\n",
       "      <td>CHEMBL1315471</td>\n",
       "      <td>NaN</td>\n",
       "      <td>nM</td>\n",
       "      <td>35481.3</td>\n",
       "      <td>CHEMBL395</td>\n",
       "      <td>Homo sapiens</td>\n",
       "      <td>Potency</td>\n",
       "    </tr>\n",
       "    <tr>\n",
       "      <th>1</th>\n",
       "      <td>1</td>\n",
       "      <td>6958176</td>\n",
       "      <td>CHEMBL1794553</td>\n",
       "      <td>PUBCHEM_BIOASSAY: qHTS for Inhibitors of TGF-b...</td>\n",
       "      <td>F</td>\n",
       "      <td>CHEMBL1511566</td>\n",
       "      <td>NaN</td>\n",
       "      <td>nM</td>\n",
       "      <td>2818.4</td>\n",
       "      <td>CHEMBL395</td>\n",
       "      <td>Homo sapiens</td>\n",
       "      <td>Potency</td>\n",
       "    </tr>\n",
       "    <tr>\n",
       "      <th>2</th>\n",
       "      <td>2</td>\n",
       "      <td>6958177</td>\n",
       "      <td>CHEMBL1794553</td>\n",
       "      <td>PUBCHEM_BIOASSAY: qHTS for Inhibitors of TGF-b...</td>\n",
       "      <td>F</td>\n",
       "      <td>CHEMBL1904108</td>\n",
       "      <td>NaN</td>\n",
       "      <td>nM</td>\n",
       "      <td>35481.3</td>\n",
       "      <td>CHEMBL395</td>\n",
       "      <td>Homo sapiens</td>\n",
       "      <td>Potency</td>\n",
       "    </tr>\n",
       "    <tr>\n",
       "      <th>3</th>\n",
       "      <td>3</td>\n",
       "      <td>6958178</td>\n",
       "      <td>CHEMBL1794553</td>\n",
       "      <td>PUBCHEM_BIOASSAY: qHTS for Inhibitors of TGF-b...</td>\n",
       "      <td>F</td>\n",
       "      <td>CHEMBL1369478</td>\n",
       "      <td>NaN</td>\n",
       "      <td>nM</td>\n",
       "      <td>35481.3</td>\n",
       "      <td>CHEMBL395</td>\n",
       "      <td>Homo sapiens</td>\n",
       "      <td>Potency</td>\n",
       "    </tr>\n",
       "    <tr>\n",
       "      <th>4</th>\n",
       "      <td>4</td>\n",
       "      <td>6958179</td>\n",
       "      <td>CHEMBL1794553</td>\n",
       "      <td>PUBCHEM_BIOASSAY: qHTS for Inhibitors of TGF-b...</td>\n",
       "      <td>F</td>\n",
       "      <td>CHEMBL1200833</td>\n",
       "      <td>NaN</td>\n",
       "      <td>nM</td>\n",
       "      <td>12589.3</td>\n",
       "      <td>CHEMBL395</td>\n",
       "      <td>Homo sapiens</td>\n",
       "      <td>Potency</td>\n",
       "    </tr>\n",
       "  </tbody>\n",
       "</table>\n",
       "</div>"
      ],
      "text/plain": [
       "   Unnamed: 0  activity_id assay_chembl_id  \\\n",
       "0           0      6961561   CHEMBL1794553   \n",
       "1           1      6958176   CHEMBL1794553   \n",
       "2           2      6958177   CHEMBL1794553   \n",
       "3           3      6958178   CHEMBL1794553   \n",
       "4           4      6958179   CHEMBL1794553   \n",
       "\n",
       "                                   assay_description assay_type  \\\n",
       "0  PUBCHEM_BIOASSAY: qHTS for Inhibitors of TGF-b...          F   \n",
       "1  PUBCHEM_BIOASSAY: qHTS for Inhibitors of TGF-b...          F   \n",
       "2  PUBCHEM_BIOASSAY: qHTS for Inhibitors of TGF-b...          F   \n",
       "3  PUBCHEM_BIOASSAY: qHTS for Inhibitors of TGF-b...          F   \n",
       "4  PUBCHEM_BIOASSAY: qHTS for Inhibitors of TGF-b...          F   \n",
       "\n",
       "  molecule_chembl_id  relation standard_units  standard_value  \\\n",
       "0      CHEMBL1315471       NaN             nM         35481.3   \n",
       "1      CHEMBL1511566       NaN             nM          2818.4   \n",
       "2      CHEMBL1904108       NaN             nM         35481.3   \n",
       "3      CHEMBL1369478       NaN             nM         35481.3   \n",
       "4      CHEMBL1200833       NaN             nM         12589.3   \n",
       "\n",
       "  target_chembl_id target_organism     type  \n",
       "0        CHEMBL395    Homo sapiens  Potency  \n",
       "1        CHEMBL395    Homo sapiens  Potency  \n",
       "2        CHEMBL395    Homo sapiens  Potency  \n",
       "3        CHEMBL395    Homo sapiens  Potency  \n",
       "4        CHEMBL395    Homo sapiens  Potency  "
      ]
     },
     "execution_count": 25,
     "metadata": {},
     "output_type": "execute_result"
    }
   ],
   "source": [
    "bioactivities_df.reset_index(drop=True, inplace=True)\n",
    "bioactivities_df.head()"
   ]
  },
  {
   "cell_type": "code",
   "execution_count": 26,
   "id": "88f6f737",
   "metadata": {},
   "outputs": [
    {
     "data": {
      "text/html": [
       "<div>\n",
       "<style scoped>\n",
       "    .dataframe tbody tr th:only-of-type {\n",
       "        vertical-align: middle;\n",
       "    }\n",
       "\n",
       "    .dataframe tbody tr th {\n",
       "        vertical-align: top;\n",
       "    }\n",
       "\n",
       "    .dataframe thead th {\n",
       "        text-align: right;\n",
       "    }\n",
       "</style>\n",
       "<table border=\"1\" class=\"dataframe\">\n",
       "  <thead>\n",
       "    <tr style=\"text-align: right;\">\n",
       "      <th></th>\n",
       "      <th>Unnamed: 0</th>\n",
       "      <th>activity_id</th>\n",
       "      <th>assay_chembl_id</th>\n",
       "      <th>assay_description</th>\n",
       "      <th>assay_type</th>\n",
       "      <th>molecule_chembl_id</th>\n",
       "      <th>relation</th>\n",
       "      <th>units</th>\n",
       "      <th>IC50</th>\n",
       "      <th>target_chembl_id</th>\n",
       "      <th>target_organism</th>\n",
       "      <th>type</th>\n",
       "    </tr>\n",
       "  </thead>\n",
       "  <tbody>\n",
       "    <tr>\n",
       "      <th>0</th>\n",
       "      <td>0</td>\n",
       "      <td>6961561</td>\n",
       "      <td>CHEMBL1794553</td>\n",
       "      <td>PUBCHEM_BIOASSAY: qHTS for Inhibitors of TGF-b...</td>\n",
       "      <td>F</td>\n",
       "      <td>CHEMBL1315471</td>\n",
       "      <td>NaN</td>\n",
       "      <td>nM</td>\n",
       "      <td>35481.3</td>\n",
       "      <td>CHEMBL395</td>\n",
       "      <td>Homo sapiens</td>\n",
       "      <td>Potency</td>\n",
       "    </tr>\n",
       "    <tr>\n",
       "      <th>1</th>\n",
       "      <td>1</td>\n",
       "      <td>6958176</td>\n",
       "      <td>CHEMBL1794553</td>\n",
       "      <td>PUBCHEM_BIOASSAY: qHTS for Inhibitors of TGF-b...</td>\n",
       "      <td>F</td>\n",
       "      <td>CHEMBL1511566</td>\n",
       "      <td>NaN</td>\n",
       "      <td>nM</td>\n",
       "      <td>2818.4</td>\n",
       "      <td>CHEMBL395</td>\n",
       "      <td>Homo sapiens</td>\n",
       "      <td>Potency</td>\n",
       "    </tr>\n",
       "    <tr>\n",
       "      <th>2</th>\n",
       "      <td>2</td>\n",
       "      <td>6958177</td>\n",
       "      <td>CHEMBL1794553</td>\n",
       "      <td>PUBCHEM_BIOASSAY: qHTS for Inhibitors of TGF-b...</td>\n",
       "      <td>F</td>\n",
       "      <td>CHEMBL1904108</td>\n",
       "      <td>NaN</td>\n",
       "      <td>nM</td>\n",
       "      <td>35481.3</td>\n",
       "      <td>CHEMBL395</td>\n",
       "      <td>Homo sapiens</td>\n",
       "      <td>Potency</td>\n",
       "    </tr>\n",
       "    <tr>\n",
       "      <th>3</th>\n",
       "      <td>3</td>\n",
       "      <td>6958178</td>\n",
       "      <td>CHEMBL1794553</td>\n",
       "      <td>PUBCHEM_BIOASSAY: qHTS for Inhibitors of TGF-b...</td>\n",
       "      <td>F</td>\n",
       "      <td>CHEMBL1369478</td>\n",
       "      <td>NaN</td>\n",
       "      <td>nM</td>\n",
       "      <td>35481.3</td>\n",
       "      <td>CHEMBL395</td>\n",
       "      <td>Homo sapiens</td>\n",
       "      <td>Potency</td>\n",
       "    </tr>\n",
       "    <tr>\n",
       "      <th>4</th>\n",
       "      <td>4</td>\n",
       "      <td>6958179</td>\n",
       "      <td>CHEMBL1794553</td>\n",
       "      <td>PUBCHEM_BIOASSAY: qHTS for Inhibitors of TGF-b...</td>\n",
       "      <td>F</td>\n",
       "      <td>CHEMBL1200833</td>\n",
       "      <td>NaN</td>\n",
       "      <td>nM</td>\n",
       "      <td>12589.3</td>\n",
       "      <td>CHEMBL395</td>\n",
       "      <td>Homo sapiens</td>\n",
       "      <td>Potency</td>\n",
       "    </tr>\n",
       "  </tbody>\n",
       "</table>\n",
       "</div>"
      ],
      "text/plain": [
       "   Unnamed: 0  activity_id assay_chembl_id  \\\n",
       "0           0      6961561   CHEMBL1794553   \n",
       "1           1      6958176   CHEMBL1794553   \n",
       "2           2      6958177   CHEMBL1794553   \n",
       "3           3      6958178   CHEMBL1794553   \n",
       "4           4      6958179   CHEMBL1794553   \n",
       "\n",
       "                                   assay_description assay_type  \\\n",
       "0  PUBCHEM_BIOASSAY: qHTS for Inhibitors of TGF-b...          F   \n",
       "1  PUBCHEM_BIOASSAY: qHTS for Inhibitors of TGF-b...          F   \n",
       "2  PUBCHEM_BIOASSAY: qHTS for Inhibitors of TGF-b...          F   \n",
       "3  PUBCHEM_BIOASSAY: qHTS for Inhibitors of TGF-b...          F   \n",
       "4  PUBCHEM_BIOASSAY: qHTS for Inhibitors of TGF-b...          F   \n",
       "\n",
       "  molecule_chembl_id  relation units     IC50 target_chembl_id  \\\n",
       "0      CHEMBL1315471       NaN    nM  35481.3        CHEMBL395   \n",
       "1      CHEMBL1511566       NaN    nM   2818.4        CHEMBL395   \n",
       "2      CHEMBL1904108       NaN    nM  35481.3        CHEMBL395   \n",
       "3      CHEMBL1369478       NaN    nM  35481.3        CHEMBL395   \n",
       "4      CHEMBL1200833       NaN    nM  12589.3        CHEMBL395   \n",
       "\n",
       "  target_organism     type  \n",
       "0    Homo sapiens  Potency  \n",
       "1    Homo sapiens  Potency  \n",
       "2    Homo sapiens  Potency  \n",
       "3    Homo sapiens  Potency  \n",
       "4    Homo sapiens  Potency  "
      ]
     },
     "execution_count": 26,
     "metadata": {},
     "output_type": "execute_result"
    }
   ],
   "source": [
    "bioactivities_df.rename(\n",
    "    columns={\"standard_value\": \"IC50\", \"standard_units\": \"units\"}, inplace=True\n",
    ")\n",
    "bioactivities_df.head()"
   ]
  },
  {
   "cell_type": "code",
   "execution_count": 27,
   "id": "ed0d9f14",
   "metadata": {},
   "outputs": [],
   "source": [
    "bioactivities_df.to_csv(\"HepG2_Bioactives_df_partialCleaning.csv\")"
   ]
  },
  {
   "cell_type": "markdown",
   "id": "cfd4378b",
   "metadata": {},
   "source": [
    "## Get compound data"
   ]
  },
  {
   "cell_type": "code",
   "execution_count": 28,
   "id": "c3fa65b7",
   "metadata": {},
   "outputs": [],
   "source": [
    "compounds_provider = compounds_api.filter(\n",
    "    molecule_chembl_id__in=list(bioactivities_df[\"molecule_chembl_id\"])\n",
    ").only(\"molecule_chembl_id\", \"molecule_structures\")"
   ]
  },
  {
   "cell_type": "code",
   "execution_count": 30,
   "id": "9261a692",
   "metadata": {},
   "outputs": [
    {
     "data": {
      "text/plain": [
       "58172"
      ]
     },
     "execution_count": 30,
     "metadata": {},
     "output_type": "execute_result"
    }
   ],
   "source": [
    "len(compounds_provider)"
   ]
  },
  {
   "cell_type": "code",
   "execution_count": 37,
   "id": "0ad59296",
   "metadata": {},
   "outputs": [
    {
     "name": "stderr",
     "output_type": "stream",
     "text": [
      "100%|████████████████████████████████████████████████████████████████████████████████████████████████████| 58172/58172 [2:42:08<00:00,  5.98it/s]"
     ]
    },
    {
     "name": "stdout",
     "output_type": "stream",
     "text": [
      "DataFrame shape: (58172, 2)\n"
     ]
    },
    {
     "name": "stderr",
     "output_type": "stream",
     "text": [
      "\n"
     ]
    }
   ],
   "source": [
    "compounds = list(tqdm(compounds_provider))\n",
    "compounds_df = pd.DataFrame.from_records(\n",
    "    compounds,\n",
    ")\n",
    "print(f\"DataFrame shape: {compounds_df.shape}\")"
   ]
  },
  {
   "cell_type": "code",
   "execution_count": 38,
   "id": "91b22ed7",
   "metadata": {},
   "outputs": [],
   "source": [
    "compounds_df.to_csv(\"HepG2_compounds_df.csv\")"
   ]
  },
  {
   "cell_type": "code",
   "execution_count": 39,
   "id": "f20edaf5",
   "metadata": {},
   "outputs": [
    {
     "name": "stdout",
     "output_type": "stream",
     "text": [
      "DataFrame shape: (58135, 2)\n"
     ]
    }
   ],
   "source": [
    "compounds_df.dropna(axis=0, how=\"any\", inplace=True)\n",
    "print(f\"DataFrame shape: {compounds_df.shape}\")"
   ]
  },
  {
   "cell_type": "code",
   "execution_count": 40,
   "id": "92cb07b9",
   "metadata": {},
   "outputs": [
    {
     "name": "stdout",
     "output_type": "stream",
     "text": [
      "DataFrame shape: (58135, 2)\n"
     ]
    }
   ],
   "source": [
    "compounds_df.drop_duplicates(\"molecule_chembl_id\", keep=\"first\", inplace=True)\n",
    "print(f\"DataFrame shape: {compounds_df.shape}\")"
   ]
  },
  {
   "cell_type": "code",
   "execution_count": 41,
   "id": "854cd23b",
   "metadata": {},
   "outputs": [
    {
     "data": {
      "text/plain": [
       "dict_keys(['canonical_smiles', 'molfile', 'standard_inchi', 'standard_inchi_key'])"
      ]
     },
     "execution_count": 41,
     "metadata": {},
     "output_type": "execute_result"
    }
   ],
   "source": [
    "compounds_df.iloc[0].molecule_structures.keys()"
   ]
  },
  {
   "cell_type": "code",
   "execution_count": 42,
   "id": "ebcfc1cc",
   "metadata": {},
   "outputs": [
    {
     "name": "stdout",
     "output_type": "stream",
     "text": [
      "DataFrame shape: (58135, 2)\n"
     ]
    }
   ],
   "source": [
    "canonical_smiles = []\n",
    "\n",
    "for i, compounds in compounds_df.iterrows():\n",
    "    try:\n",
    "        canonical_smiles.append(compounds[\"molecule_structures\"][\"canonical_smiles\"])\n",
    "    except KeyError:\n",
    "        canonical_smiles.append(None)\n",
    "\n",
    "compounds_df[\"smiles\"] = canonical_smiles\n",
    "compounds_df.drop(\"molecule_structures\", axis=1, inplace=True)\n",
    "print(f\"DataFrame shape: {compounds_df.shape}\")"
   ]
  },
  {
   "cell_type": "code",
   "execution_count": 43,
   "id": "bdae91af",
   "metadata": {},
   "outputs": [
    {
     "name": "stdout",
     "output_type": "stream",
     "text": [
      "DataFrame shape: (58135, 2)\n"
     ]
    }
   ],
   "source": [
    "compounds_df.dropna(axis=0, how=\"any\", inplace=True)\n",
    "print(f\"DataFrame shape: {compounds_df.shape}\")"
   ]
  },
  {
   "cell_type": "code",
   "execution_count": 44,
   "id": "54dc0b44",
   "metadata": {},
   "outputs": [],
   "source": [
    "compounds_df.to_csv(\"hepg2_compoundsdf_clean.csv\")"
   ]
  },
  {
   "cell_type": "markdown",
   "id": "8d86d8c4",
   "metadata": {},
   "source": [
    "## Merge compound and bioactivity data"
   ]
  },
  {
   "cell_type": "code",
   "execution_count": 45,
   "id": "2858ba7f",
   "metadata": {},
   "outputs": [
    {
     "name": "stdout",
     "output_type": "stream",
     "text": [
      "Dataset with 58135 entries.\n"
     ]
    }
   ],
   "source": [
    "output_df = pd.merge(\n",
    "    bioactivities_df[[\"molecule_chembl_id\", \"IC50\", \"units\"]],\n",
    "    compounds_df,\n",
    "    on=\"molecule_chembl_id\",\n",
    ")\n",
    "\n",
    "# Reset row indices\n",
    "output_df.reset_index(drop=True, inplace=True)\n",
    "\n",
    "print(f\"Dataset with {output_df.shape[0]} entries.\")"
   ]
  },
  {
   "cell_type": "code",
   "execution_count": 46,
   "id": "269fce7d",
   "metadata": {},
   "outputs": [
    {
     "data": {
      "text/html": [
       "<div>\n",
       "<style scoped>\n",
       "    .dataframe tbody tr th:only-of-type {\n",
       "        vertical-align: middle;\n",
       "    }\n",
       "\n",
       "    .dataframe tbody tr th {\n",
       "        vertical-align: top;\n",
       "    }\n",
       "\n",
       "    .dataframe thead th {\n",
       "        text-align: right;\n",
       "    }\n",
       "</style>\n",
       "<table border=\"1\" class=\"dataframe\">\n",
       "  <thead>\n",
       "    <tr style=\"text-align: right;\">\n",
       "      <th></th>\n",
       "      <th>molecule_chembl_id</th>\n",
       "      <th>IC50</th>\n",
       "      <th>units</th>\n",
       "      <th>smiles</th>\n",
       "    </tr>\n",
       "  </thead>\n",
       "  <tbody>\n",
       "    <tr>\n",
       "      <th>0</th>\n",
       "      <td>CHEMBL1315471</td>\n",
       "      <td>35481.3</td>\n",
       "      <td>nM</td>\n",
       "      <td>CCN(CC(=O)NCc1cccs1)S(=O)(=O)c1cc(NC(C)=O)ccc1OC</td>\n",
       "    </tr>\n",
       "    <tr>\n",
       "      <th>1</th>\n",
       "      <td>CHEMBL1511566</td>\n",
       "      <td>2818.4</td>\n",
       "      <td>nM</td>\n",
       "      <td>O=C(CN(c1ccc(F)cc1)S(=O)(=O)c1ccc2c(c1)OCCO2)N...</td>\n",
       "    </tr>\n",
       "    <tr>\n",
       "      <th>2</th>\n",
       "      <td>CHEMBL1904108</td>\n",
       "      <td>35481.3</td>\n",
       "      <td>nM</td>\n",
       "      <td>O=C(CCN1C(=O)/C(=C\\c2ccccc2F)SC1=S)N1CCOCC1</td>\n",
       "    </tr>\n",
       "    <tr>\n",
       "      <th>3</th>\n",
       "      <td>CHEMBL1369478</td>\n",
       "      <td>35481.3</td>\n",
       "      <td>nM</td>\n",
       "      <td>COc1cc2c(cc1OC)C(c1ccc(-c3ccc(Cl)c(Cl)c3)o1)=NCC2</td>\n",
       "    </tr>\n",
       "    <tr>\n",
       "      <th>4</th>\n",
       "      <td>CHEMBL1200833</td>\n",
       "      <td>12589.3</td>\n",
       "      <td>nM</td>\n",
       "      <td>CNCC(O)c1ccc(OC(=O)C(C)(C)C)c(OC(=O)C(C)(C)C)c...</td>\n",
       "    </tr>\n",
       "  </tbody>\n",
       "</table>\n",
       "</div>"
      ],
      "text/plain": [
       "  molecule_chembl_id     IC50 units  \\\n",
       "0      CHEMBL1315471  35481.3    nM   \n",
       "1      CHEMBL1511566   2818.4    nM   \n",
       "2      CHEMBL1904108  35481.3    nM   \n",
       "3      CHEMBL1369478  35481.3    nM   \n",
       "4      CHEMBL1200833  12589.3    nM   \n",
       "\n",
       "                                              smiles  \n",
       "0   CCN(CC(=O)NCc1cccs1)S(=O)(=O)c1cc(NC(C)=O)ccc1OC  \n",
       "1  O=C(CN(c1ccc(F)cc1)S(=O)(=O)c1ccc2c(c1)OCCO2)N...  \n",
       "2        O=C(CCN1C(=O)/C(=C\\c2ccccc2F)SC1=S)N1CCOCC1  \n",
       "3  COc1cc2c(cc1OC)C(c1ccc(-c3ccc(Cl)c(Cl)c3)o1)=NCC2  \n",
       "4  CNCC(O)c1ccc(OC(=O)C(C)(C)C)c(OC(=O)C(C)(C)C)c...  "
      ]
     },
     "execution_count": 46,
     "metadata": {},
     "output_type": "execute_result"
    }
   ],
   "source": [
    "output_df.head()"
   ]
  },
  {
   "cell_type": "code",
   "execution_count": 47,
   "id": "43120a13",
   "metadata": {},
   "outputs": [],
   "source": [
    "output_df.to_csv(\"hepg2_output_df.csv\")"
   ]
  }
 ],
 "metadata": {
  "kernelspec": {
   "display_name": "Python 3 (ipykernel)",
   "language": "python",
   "name": "python3"
  },
  "language_info": {
   "codemirror_mode": {
    "name": "ipython",
    "version": 3
   },
   "file_extension": ".py",
   "mimetype": "text/x-python",
   "name": "python",
   "nbconvert_exporter": "python",
   "pygments_lexer": "ipython3",
   "version": "3.10.7"
  }
 },
 "nbformat": 4,
 "nbformat_minor": 5
}
