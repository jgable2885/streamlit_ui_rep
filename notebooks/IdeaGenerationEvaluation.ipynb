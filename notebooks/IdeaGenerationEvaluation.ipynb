{
 "cells": [
  {
   "cell_type": "markdown",
   "metadata": {
    "id": "RkZXiAhAMtEi"
   },
   "source": [
    "# **Installations and imports**"
   ]
  },
  {
   "cell_type": "code",
   "execution_count": 2,
   "metadata": {
    "colab": {
     "base_uri": "https://localhost:8080/"
    },
    "id": "TjGdbVuHhI7x",
    "outputId": "da07140b-83e5-40c2-8eb1-ffb161677f10"
   },
   "outputs": [
    {
     "name": "stdout",
     "output_type": "stream",
     "text": [
      "Looking in indexes: https://pypi.org/simple, https://us-python.pkg.dev/colab-wheels/public/simple/\n",
      "Collecting deepchem\n",
      "  Downloading deepchem-2.7.1-py3-none-any.whl (693 kB)\n",
      "\u001b[2K     \u001b[90m━━━━━━━━━━━━━━━━━━━━━━━━━━━━━━━━━━━━━━\u001b[0m \u001b[32m693.2/693.2 kB\u001b[0m \u001b[31m12.0 MB/s\u001b[0m eta \u001b[36m0:00:00\u001b[0m\n",
      "\u001b[?25hRequirement already satisfied: scikit-learn in /usr/local/lib/python3.9/dist-packages (from deepchem) (1.2.2)\n",
      "Collecting scipy<1.9\n",
      "  Downloading scipy-1.8.1-cp39-cp39-manylinux_2_17_x86_64.manylinux2014_x86_64.whl (42.2 MB)\n",
      "\u001b[2K     \u001b[90m━━━━━━━━━━━━━━━━━━━━━━━━━━━━━━━━━━━━━━━━\u001b[0m \u001b[32m42.2/42.2 MB\u001b[0m \u001b[31m18.2 MB/s\u001b[0m eta \u001b[36m0:00:00\u001b[0m\n",
      "\u001b[?25hRequirement already satisfied: pandas in /usr/local/lib/python3.9/dist-packages (from deepchem) (1.5.3)\n",
      "Requirement already satisfied: numpy>=1.21 in /usr/local/lib/python3.9/dist-packages (from deepchem) (1.22.4)\n",
      "Requirement already satisfied: joblib in /usr/local/lib/python3.9/dist-packages (from deepchem) (1.2.0)\n",
      "Collecting rdkit\n",
      "  Downloading rdkit-2022.9.5-cp39-cp39-manylinux_2_17_x86_64.manylinux2014_x86_64.whl (29.4 MB)\n",
      "\u001b[2K     \u001b[90m━━━━━━━━━━━━━━━━━━━━━━━━━━━━━━━━━━━━━━━━\u001b[0m \u001b[32m29.4/29.4 MB\u001b[0m \u001b[31m45.3 MB/s\u001b[0m eta \u001b[36m0:00:00\u001b[0m\n",
      "\u001b[?25hRequirement already satisfied: pytz>=2020.1 in /usr/local/lib/python3.9/dist-packages (from pandas->deepchem) (2022.7.1)\n",
      "Requirement already satisfied: python-dateutil>=2.8.1 in /usr/local/lib/python3.9/dist-packages (from pandas->deepchem) (2.8.2)\n",
      "Requirement already satisfied: Pillow in /usr/local/lib/python3.9/dist-packages (from rdkit->deepchem) (8.4.0)\n",
      "Requirement already satisfied: threadpoolctl>=2.0.0 in /usr/local/lib/python3.9/dist-packages (from scikit-learn->deepchem) (3.1.0)\n",
      "Requirement already satisfied: six>=1.5 in /usr/local/lib/python3.9/dist-packages (from python-dateutil>=2.8.1->pandas->deepchem) (1.16.0)\n",
      "Installing collected packages: scipy, rdkit, deepchem\n",
      "  Attempting uninstall: scipy\n",
      "    Found existing installation: scipy 1.10.1\n",
      "    Uninstalling scipy-1.10.1:\n",
      "      Successfully uninstalled scipy-1.10.1\n",
      "Successfully installed deepchem-2.7.1 rdkit-2022.9.5 scipy-1.8.1\n"
     ]
    }
   ],
   "source": [
    "pip install deepchem"
   ]
  },
  {
   "cell_type": "code",
   "execution_count": 3,
   "metadata": {
    "colab": {
     "base_uri": "https://localhost:8080/"
    },
    "id": "lWVOAtFYhCWO",
    "outputId": "b7aa60e0-2afb-423d-848c-66dbd8654da1"
   },
   "outputs": [
    {
     "name": "stdout",
     "output_type": "stream",
     "text": [
      "Looking in indexes: https://pypi.org/simple, https://us-python.pkg.dev/colab-wheels/public/simple/\n",
      "Collecting dgl\n",
      "  Downloading dgl-1.0.1-cp39-cp39-manylinux1_x86_64.whl (5.4 MB)\n",
      "\u001b[2K     \u001b[90m━━━━━━━━━━━━━━━━━━━━━━━━━━━━━━━━━━━━━━━━\u001b[0m \u001b[32m5.4/5.4 MB\u001b[0m \u001b[31m46.6 MB/s\u001b[0m eta \u001b[36m0:00:00\u001b[0m\n",
      "\u001b[?25hRequirement already satisfied: numpy>=1.14.0 in /usr/local/lib/python3.9/dist-packages (from dgl) (1.22.4)\n",
      "Requirement already satisfied: networkx>=2.1 in /usr/local/lib/python3.9/dist-packages (from dgl) (3.1)\n",
      "Requirement already satisfied: tqdm in /usr/local/lib/python3.9/dist-packages (from dgl) (4.65.0)\n",
      "Requirement already satisfied: scipy>=1.1.0 in /usr/local/lib/python3.9/dist-packages (from dgl) (1.8.1)\n",
      "Requirement already satisfied: requests>=2.19.0 in /usr/local/lib/python3.9/dist-packages (from dgl) (2.27.1)\n",
      "Requirement already satisfied: psutil>=5.8.0 in /usr/local/lib/python3.9/dist-packages (from dgl) (5.9.4)\n",
      "Requirement already satisfied: idna<4,>=2.5 in /usr/local/lib/python3.9/dist-packages (from requests>=2.19.0->dgl) (3.4)\n",
      "Requirement already satisfied: certifi>=2017.4.17 in /usr/local/lib/python3.9/dist-packages (from requests>=2.19.0->dgl) (2022.12.7)\n",
      "Requirement already satisfied: urllib3<1.27,>=1.21.1 in /usr/local/lib/python3.9/dist-packages (from requests>=2.19.0->dgl) (1.26.15)\n",
      "Requirement already satisfied: charset-normalizer~=2.0.0 in /usr/local/lib/python3.9/dist-packages (from requests>=2.19.0->dgl) (2.0.12)\n",
      "Installing collected packages: dgl\n",
      "Successfully installed dgl-1.0.1\n"
     ]
    }
   ],
   "source": [
    "!pip install dgl"
   ]
  },
  {
   "cell_type": "code",
   "execution_count": 4,
   "metadata": {
    "colab": {
     "base_uri": "https://localhost:8080/"
    },
    "id": "PlysPhIJhG-S",
    "outputId": "f81e83a1-0c7b-48ee-f638-4d1dc57c2cd1"
   },
   "outputs": [
    {
     "name": "stdout",
     "output_type": "stream",
     "text": [
      "Looking in indexes: https://pypi.org/simple, https://us-python.pkg.dev/colab-wheels/public/simple/\n",
      "Collecting dgllife\n",
      "  Downloading dgllife-0.3.2-py3-none-any.whl (226 kB)\n",
      "\u001b[2K     \u001b[90m━━━━━━━━━━━━━━━━━━━━━━━━━━━━━━━━━━━━━━━\u001b[0m \u001b[32m226.1/226.1 kB\u001b[0m \u001b[31m5.7 MB/s\u001b[0m eta \u001b[36m0:00:00\u001b[0m\n",
      "\u001b[?25hRequirement already satisfied: numpy>=1.14.0 in /usr/local/lib/python3.9/dist-packages (from dgllife) (1.22.4)\n",
      "Requirement already satisfied: networkx>=2.1 in /usr/local/lib/python3.9/dist-packages (from dgllife) (3.1)\n",
      "Requirement already satisfied: tqdm in /usr/local/lib/python3.9/dist-packages (from dgllife) (4.65.0)\n",
      "Requirement already satisfied: joblib in /usr/local/lib/python3.9/dist-packages (from dgllife) (1.2.0)\n",
      "Requirement already satisfied: pandas in /usr/local/lib/python3.9/dist-packages (from dgllife) (1.5.3)\n",
      "Requirement already satisfied: requests>=2.22.0 in /usr/local/lib/python3.9/dist-packages (from dgllife) (2.27.1)\n",
      "Requirement already satisfied: scikit-learn>=0.22.2 in /usr/local/lib/python3.9/dist-packages (from dgllife) (1.2.2)\n",
      "Requirement already satisfied: hyperopt in /usr/local/lib/python3.9/dist-packages (from dgllife) (0.2.7)\n",
      "Requirement already satisfied: scipy>=1.1.0 in /usr/local/lib/python3.9/dist-packages (from dgllife) (1.8.1)\n",
      "Requirement already satisfied: idna<4,>=2.5 in /usr/local/lib/python3.9/dist-packages (from requests>=2.22.0->dgllife) (3.4)\n",
      "Requirement already satisfied: certifi>=2017.4.17 in /usr/local/lib/python3.9/dist-packages (from requests>=2.22.0->dgllife) (2022.12.7)\n",
      "Requirement already satisfied: urllib3<1.27,>=1.21.1 in /usr/local/lib/python3.9/dist-packages (from requests>=2.22.0->dgllife) (1.26.15)\n",
      "Requirement already satisfied: charset-normalizer~=2.0.0 in /usr/local/lib/python3.9/dist-packages (from requests>=2.22.0->dgllife) (2.0.12)\n",
      "Requirement already satisfied: threadpoolctl>=2.0.0 in /usr/local/lib/python3.9/dist-packages (from scikit-learn>=0.22.2->dgllife) (3.1.0)\n",
      "Requirement already satisfied: py4j in /usr/local/lib/python3.9/dist-packages (from hyperopt->dgllife) (0.10.9.7)\n",
      "Requirement already satisfied: future in /usr/local/lib/python3.9/dist-packages (from hyperopt->dgllife) (0.18.3)\n",
      "Requirement already satisfied: cloudpickle in /usr/local/lib/python3.9/dist-packages (from hyperopt->dgllife) (2.2.1)\n",
      "Requirement already satisfied: six in /usr/local/lib/python3.9/dist-packages (from hyperopt->dgllife) (1.16.0)\n",
      "Requirement already satisfied: pytz>=2020.1 in /usr/local/lib/python3.9/dist-packages (from pandas->dgllife) (2022.7.1)\n",
      "Requirement already satisfied: python-dateutil>=2.8.1 in /usr/local/lib/python3.9/dist-packages (from pandas->dgllife) (2.8.2)\n",
      "Installing collected packages: dgllife\n",
      "Successfully installed dgllife-0.3.2\n"
     ]
    }
   ],
   "source": [
    "!pip install dgllife"
   ]
  },
  {
   "cell_type": "code",
   "execution_count": 5,
   "metadata": {
    "colab": {
     "base_uri": "https://localhost:8080/"
    },
    "id": "Fdd7Dr5dhWab",
    "outputId": "92b25ab5-753b-4fa4-bb4d-7a477b14580a"
   },
   "outputs": [
    {
     "name": "stdout",
     "output_type": "stream",
     "text": [
      "Looking in indexes: https://pypi.org/simple, https://us-python.pkg.dev/colab-wheels/public/simple/\n",
      "Collecting mmpdb\n",
      "  Downloading mmpdb-2.1-py2.py3-none-any.whl (188 kB)\n",
      "\u001b[2K     \u001b[90m━━━━━━━━━━━━━━━━━━━━━━━━━━━━━━━━━━━━━━━\u001b[0m \u001b[32m188.3/188.3 kB\u001b[0m \u001b[31m5.4 MB/s\u001b[0m eta \u001b[36m0:00:00\u001b[0m\n",
      "\u001b[?25hInstalling collected packages: mmpdb\n",
      "Successfully installed mmpdb-2.1\n"
     ]
    }
   ],
   "source": [
    "!pip install mmpdb"
   ]
  },
  {
   "cell_type": "code",
   "execution_count": 20,
   "metadata": {
    "id": "OrtU7d9fhN7L"
   },
   "outputs": [],
   "source": [
    "import deepchem as dc\n",
    "import numpy as np\n",
    "import pandas as pd\n",
    "import subprocess\n",
    "from distutils.spawn import find_executable\n",
    "from rdkit.Chem import PandasTools\n",
    "from rdkit.Chem.Descriptors import qed\n",
    "from rdkit import Chem\n",
    "from rdkit import DataStructs\n",
    "import os\n",
    "import seaborn as sns\n",
    "import matplotlib.pyplot as plt"
   ]
  },
  {
   "cell_type": "markdown",
   "metadata": {
    "id": "MXxd6m-qM9m8"
   },
   "source": [
    "# Custom function for idea generation using mmpdb"
   ]
  },
  {
   "cell_type": "code",
   "execution_count": 7,
   "metadata": {
    "id": "FtF-nTO4xkaO"
   },
   "outputs": [],
   "source": [
    "def generate_ideas(input_smi, prop=\"pCC50\", database=\"AllHepG2.mmpdb\", \n",
    "\t\t\t\t\tdelta=\"-1\", max_ideas=None, output=\"out.tmp\",\n",
    "\t\t\t\t\tsorting_weights=(0.7,0.3)):\n",
    "    if find_executable(\"mmpdb\") is None:\n",
    "    \traise Exception(\"mmpdb is not installed\")\n",
    "    subprocess.run([\"mmpdb\", \"transform\", \"-s\", input_smi, \n",
    "                    database, \"-p\", prop, \"--where\", \"avg<\"+str(delta), \"-o\", output])\n",
    "    ideas_df = pd.read_csv(output,sep=\"\\t\")\n",
    "    PandasTools.AddMoleculeColumnToFrame(ideas_df,'SMILES','Molecule')\n",
    "    ideas_df['qed'] = ideas_df['Molecule'].apply(qed)\n",
    "    \n",
    "    fps = [Chem.RDKFingerprint(mol) for mol in ideas_df['Molecule']]\n",
    "    q_fp = Chem.RDKFingerprint(Chem.MolFromSmiles(input_smi))\n",
    "    sims = DataStructs.BulkTanimotoSimilarity(q_fp, fps)\n",
    "    ideas_df['sims'] = sims\n",
    "    ideas_df['sort_by'] = sorting_weights[0]*ideas_df['sims']+sorting_weights[1]*ideas_df['qed']\n",
    "    \n",
    "    ideas_df.sort_values('sort_by', ascending=False, inplace=True)\n",
    "    if max_ideas is not None:\n",
    "    \treturn ideas_df[0:max_ideas]\n",
    "    else:\n",
    "    \treturn ideas_df"
   ]
  },
  {
   "cell_type": "markdown",
   "metadata": {
    "id": "LsGH0ntHNlCd"
   },
   "source": [
    "# Load Tox21 data and compute atom counts and qed score per molecule"
   ]
  },
  {
   "cell_type": "code",
   "execution_count": 8,
   "metadata": {
    "colab": {
     "base_uri": "https://localhost:8080/",
     "height": 406
    },
    "id": "oTaArLvYzfz_",
    "outputId": "31a5362e-421d-46cd-fbcf-943f5d6dfa9a"
   },
   "outputs": [
    {
     "name": "stderr",
     "output_type": "stream",
     "text": [
      "[16:22:29] WARNING: not removing hydrogen atom without neighbors\n",
      "[16:22:31] WARNING: not removing hydrogen atom without neighbors\n"
     ]
    },
    {
     "data": {
      "text/html": [
       "\n",
       "  <div id=\"df-78637f5a-ec43-4f70-ad70-a8f173ae59a5\">\n",
       "    <div class=\"colab-df-container\">\n",
       "      <div>\n",
       "<style scoped>\n",
       "    .dataframe tbody tr th:only-of-type {\n",
       "        vertical-align: middle;\n",
       "    }\n",
       "\n",
       "    .dataframe tbody tr th {\n",
       "        vertical-align: top;\n",
       "    }\n",
       "\n",
       "    .dataframe thead th {\n",
       "        text-align: right;\n",
       "    }\n",
       "</style>\n",
       "<table border=\"1\" class=\"dataframe\">\n",
       "  <thead>\n",
       "    <tr style=\"text-align: right;\">\n",
       "      <th></th>\n",
       "      <th>NR-AR</th>\n",
       "      <th>NR-AR-LBD</th>\n",
       "      <th>NR-AhR</th>\n",
       "      <th>NR-Aromatase</th>\n",
       "      <th>NR-ER</th>\n",
       "      <th>NR-ER-LBD</th>\n",
       "      <th>NR-PPAR-gamma</th>\n",
       "      <th>SR-ARE</th>\n",
       "      <th>SR-ATAD5</th>\n",
       "      <th>SR-HSE</th>\n",
       "      <th>SR-MMP</th>\n",
       "      <th>SR-p53</th>\n",
       "      <th>mol_id</th>\n",
       "      <th>smiles</th>\n",
       "      <th>Molecule</th>\n",
       "      <th>qed</th>\n",
       "      <th>atom_count</th>\n",
       "    </tr>\n",
       "  </thead>\n",
       "  <tbody>\n",
       "    <tr>\n",
       "      <th>0</th>\n",
       "      <td>0.0</td>\n",
       "      <td>0.0</td>\n",
       "      <td>1.0</td>\n",
       "      <td>NaN</td>\n",
       "      <td>NaN</td>\n",
       "      <td>0.0</td>\n",
       "      <td>0.0</td>\n",
       "      <td>1.0</td>\n",
       "      <td>0.0</td>\n",
       "      <td>0.0</td>\n",
       "      <td>0.0</td>\n",
       "      <td>0.0</td>\n",
       "      <td>TOX3021</td>\n",
       "      <td>CCOc1ccc2nc(S(N)(=O)=O)sc2c1</td>\n",
       "      <td>&lt;rdkit.Chem.rdchem.Mol object at 0x7f277fc12270&gt;</td>\n",
       "      <td>0.900283</td>\n",
       "      <td>26</td>\n",
       "    </tr>\n",
       "    <tr>\n",
       "      <th>1</th>\n",
       "      <td>0.0</td>\n",
       "      <td>0.0</td>\n",
       "      <td>0.0</td>\n",
       "      <td>0.0</td>\n",
       "      <td>0.0</td>\n",
       "      <td>0.0</td>\n",
       "      <td>0.0</td>\n",
       "      <td>NaN</td>\n",
       "      <td>0.0</td>\n",
       "      <td>NaN</td>\n",
       "      <td>0.0</td>\n",
       "      <td>0.0</td>\n",
       "      <td>TOX3020</td>\n",
       "      <td>CCN1C(=O)NC(c2ccccc2)C1=O</td>\n",
       "      <td>&lt;rdkit.Chem.rdchem.Mol object at 0x7f277fc12350&gt;</td>\n",
       "      <td>0.738013</td>\n",
       "      <td>27</td>\n",
       "    </tr>\n",
       "    <tr>\n",
       "      <th>2</th>\n",
       "      <td>NaN</td>\n",
       "      <td>NaN</td>\n",
       "      <td>NaN</td>\n",
       "      <td>NaN</td>\n",
       "      <td>NaN</td>\n",
       "      <td>NaN</td>\n",
       "      <td>NaN</td>\n",
       "      <td>0.0</td>\n",
       "      <td>NaN</td>\n",
       "      <td>0.0</td>\n",
       "      <td>NaN</td>\n",
       "      <td>NaN</td>\n",
       "      <td>TOX3024</td>\n",
       "      <td>CC[C@]1(O)CC[C@H]2[C@@H]3CCC4=CCCC[C@@H]4[C@H]...</td>\n",
       "      <td>&lt;rdkit.Chem.rdchem.Mol object at 0x7f277fc123c0&gt;</td>\n",
       "      <td>0.666269</td>\n",
       "      <td>53</td>\n",
       "    </tr>\n",
       "    <tr>\n",
       "      <th>3</th>\n",
       "      <td>0.0</td>\n",
       "      <td>0.0</td>\n",
       "      <td>0.0</td>\n",
       "      <td>0.0</td>\n",
       "      <td>0.0</td>\n",
       "      <td>0.0</td>\n",
       "      <td>0.0</td>\n",
       "      <td>NaN</td>\n",
       "      <td>0.0</td>\n",
       "      <td>NaN</td>\n",
       "      <td>0.0</td>\n",
       "      <td>0.0</td>\n",
       "      <td>TOX3027</td>\n",
       "      <td>CCCN(CC)C(CC)C(=O)Nc1c(C)cccc1C</td>\n",
       "      <td>&lt;rdkit.Chem.rdchem.Mol object at 0x7f277fc12430&gt;</td>\n",
       "      <td>0.822261</td>\n",
       "      <td>48</td>\n",
       "    </tr>\n",
       "    <tr>\n",
       "      <th>4</th>\n",
       "      <td>0.0</td>\n",
       "      <td>0.0</td>\n",
       "      <td>0.0</td>\n",
       "      <td>0.0</td>\n",
       "      <td>0.0</td>\n",
       "      <td>0.0</td>\n",
       "      <td>0.0</td>\n",
       "      <td>0.0</td>\n",
       "      <td>0.0</td>\n",
       "      <td>0.0</td>\n",
       "      <td>0.0</td>\n",
       "      <td>0.0</td>\n",
       "      <td>TOX20800</td>\n",
       "      <td>CC(O)(P(=O)(O)O)P(=O)(O)O</td>\n",
       "      <td>&lt;rdkit.Chem.rdchem.Mol object at 0x7f277fc124a0&gt;</td>\n",
       "      <td>0.365583</td>\n",
       "      <td>19</td>\n",
       "    </tr>\n",
       "  </tbody>\n",
       "</table>\n",
       "</div>\n",
       "      <button class=\"colab-df-convert\" onclick=\"convertToInteractive('df-78637f5a-ec43-4f70-ad70-a8f173ae59a5')\"\n",
       "              title=\"Convert this dataframe to an interactive table.\"\n",
       "              style=\"display:none;\">\n",
       "        \n",
       "  <svg xmlns=\"http://www.w3.org/2000/svg\" height=\"24px\"viewBox=\"0 0 24 24\"\n",
       "       width=\"24px\">\n",
       "    <path d=\"M0 0h24v24H0V0z\" fill=\"none\"/>\n",
       "    <path d=\"M18.56 5.44l.94 2.06.94-2.06 2.06-.94-2.06-.94-.94-2.06-.94 2.06-2.06.94zm-11 1L8.5 8.5l.94-2.06 2.06-.94-2.06-.94L8.5 2.5l-.94 2.06-2.06.94zm10 10l.94 2.06.94-2.06 2.06-.94-2.06-.94-.94-2.06-.94 2.06-2.06.94z\"/><path d=\"M17.41 7.96l-1.37-1.37c-.4-.4-.92-.59-1.43-.59-.52 0-1.04.2-1.43.59L10.3 9.45l-7.72 7.72c-.78.78-.78 2.05 0 2.83L4 21.41c.39.39.9.59 1.41.59.51 0 1.02-.2 1.41-.59l7.78-7.78 2.81-2.81c.8-.78.8-2.07 0-2.86zM5.41 20L4 18.59l7.72-7.72 1.47 1.35L5.41 20z\"/>\n",
       "  </svg>\n",
       "      </button>\n",
       "      \n",
       "  <style>\n",
       "    .colab-df-container {\n",
       "      display:flex;\n",
       "      flex-wrap:wrap;\n",
       "      gap: 12px;\n",
       "    }\n",
       "\n",
       "    .colab-df-convert {\n",
       "      background-color: #E8F0FE;\n",
       "      border: none;\n",
       "      border-radius: 50%;\n",
       "      cursor: pointer;\n",
       "      display: none;\n",
       "      fill: #1967D2;\n",
       "      height: 32px;\n",
       "      padding: 0 0 0 0;\n",
       "      width: 32px;\n",
       "    }\n",
       "\n",
       "    .colab-df-convert:hover {\n",
       "      background-color: #E2EBFA;\n",
       "      box-shadow: 0px 1px 2px rgba(60, 64, 67, 0.3), 0px 1px 3px 1px rgba(60, 64, 67, 0.15);\n",
       "      fill: #174EA6;\n",
       "    }\n",
       "\n",
       "    [theme=dark] .colab-df-convert {\n",
       "      background-color: #3B4455;\n",
       "      fill: #D2E3FC;\n",
       "    }\n",
       "\n",
       "    [theme=dark] .colab-df-convert:hover {\n",
       "      background-color: #434B5C;\n",
       "      box-shadow: 0px 1px 3px 1px rgba(0, 0, 0, 0.15);\n",
       "      filter: drop-shadow(0px 1px 2px rgba(0, 0, 0, 0.3));\n",
       "      fill: #FFFFFF;\n",
       "    }\n",
       "  </style>\n",
       "\n",
       "      <script>\n",
       "        const buttonEl =\n",
       "          document.querySelector('#df-78637f5a-ec43-4f70-ad70-a8f173ae59a5 button.colab-df-convert');\n",
       "        buttonEl.style.display =\n",
       "          google.colab.kernel.accessAllowed ? 'block' : 'none';\n",
       "\n",
       "        async function convertToInteractive(key) {\n",
       "          const element = document.querySelector('#df-78637f5a-ec43-4f70-ad70-a8f173ae59a5');\n",
       "          const dataTable =\n",
       "            await google.colab.kernel.invokeFunction('convertToInteractive',\n",
       "                                                     [key], {});\n",
       "          if (!dataTable) return;\n",
       "\n",
       "          const docLinkHtml = 'Like what you see? Visit the ' +\n",
       "            '<a target=\"_blank\" href=https://colab.research.google.com/notebooks/data_table.ipynb>data table notebook</a>'\n",
       "            + ' to learn more about interactive tables.';\n",
       "          element.innerHTML = '';\n",
       "          dataTable['output_type'] = 'display_data';\n",
       "          await google.colab.output.renderOutput(dataTable, element);\n",
       "          const docLink = document.createElement('div');\n",
       "          docLink.innerHTML = docLinkHtml;\n",
       "          element.appendChild(docLink);\n",
       "        }\n",
       "      </script>\n",
       "    </div>\n",
       "  </div>\n",
       "  "
      ],
      "text/plain": [
       "   NR-AR  NR-AR-LBD  NR-AhR  NR-Aromatase  NR-ER  NR-ER-LBD  NR-PPAR-gamma  \\\n",
       "0    0.0        0.0     1.0           NaN    NaN        0.0            0.0   \n",
       "1    0.0        0.0     0.0           0.0    0.0        0.0            0.0   \n",
       "2    NaN        NaN     NaN           NaN    NaN        NaN            NaN   \n",
       "3    0.0        0.0     0.0           0.0    0.0        0.0            0.0   \n",
       "4    0.0        0.0     0.0           0.0    0.0        0.0            0.0   \n",
       "\n",
       "   SR-ARE  SR-ATAD5  SR-HSE  SR-MMP  SR-p53    mol_id  \\\n",
       "0     1.0       0.0     0.0     0.0     0.0   TOX3021   \n",
       "1     NaN       0.0     NaN     0.0     0.0   TOX3020   \n",
       "2     0.0       NaN     0.0     NaN     NaN   TOX3024   \n",
       "3     NaN       0.0     NaN     0.0     0.0   TOX3027   \n",
       "4     0.0       0.0     0.0     0.0     0.0  TOX20800   \n",
       "\n",
       "                                              smiles  \\\n",
       "0                       CCOc1ccc2nc(S(N)(=O)=O)sc2c1   \n",
       "1                          CCN1C(=O)NC(c2ccccc2)C1=O   \n",
       "2  CC[C@]1(O)CC[C@H]2[C@@H]3CCC4=CCCC[C@@H]4[C@H]...   \n",
       "3                    CCCN(CC)C(CC)C(=O)Nc1c(C)cccc1C   \n",
       "4                          CC(O)(P(=O)(O)O)P(=O)(O)O   \n",
       "\n",
       "                                           Molecule       qed  atom_count  \n",
       "0  <rdkit.Chem.rdchem.Mol object at 0x7f277fc12270>  0.900283          26  \n",
       "1  <rdkit.Chem.rdchem.Mol object at 0x7f277fc12350>  0.738013          27  \n",
       "2  <rdkit.Chem.rdchem.Mol object at 0x7f277fc123c0>  0.666269          53  \n",
       "3  <rdkit.Chem.rdchem.Mol object at 0x7f277fc12430>  0.822261          48  \n",
       "4  <rdkit.Chem.rdchem.Mol object at 0x7f277fc124a0>  0.365583          19  "
      ]
     },
     "execution_count": 8,
     "metadata": {},
     "output_type": "execute_result"
    }
   ],
   "source": [
    "tox21_df = pd.read_csv('../data/tox21.csv.gz')\n",
    "PandasTools.AddMoleculeColumnToFrame(tox21_df, 'smiles', 'Molecule')\n",
    "tox21_df['qed'] = tox21_df['Molecule'].apply(qed)\n",
    "tox21_df['atom_count'] = tox21_df['Molecule'].apply(Chem.rdMolDescriptors.CalcNumAtoms)\n",
    "tox21_df.head()"
   ]
  },
  {
   "cell_type": "markdown",
   "metadata": {
    "id": "RdYDrfL-OKsa"
   },
   "source": [
    "# **Load Tox21 via DeepChem API with appropriate featurizer and splitter**"
   ]
  },
  {
   "cell_type": "code",
   "execution_count": 9,
   "metadata": {
    "colab": {
     "base_uri": "https://localhost:8080/"
    },
    "id": "CtpqdV8L5uZm",
    "outputId": "ed3b2db6-e6c9-401f-e122-e44e9874196d"
   },
   "outputs": [
    {
     "name": "stderr",
     "output_type": "stream",
     "text": [
      "[16:22:58] WARNING: not removing hydrogen atom without neighbors\n",
      "WARNING:deepchem.feat.base_classes:Failed to featurize datapoint 95, [I-].[K+]. Appending empty array\n",
      "WARNING:deepchem.feat.base_classes:Exception message: tuple index out of range\n",
      "WARNING:deepchem.feat.base_classes:Failed to featurize datapoint 255, [Hg+2]. Appending empty array\n",
      "WARNING:deepchem.feat.base_classes:Exception message: More than one atom should be present in the molecule for this featurizer to work.\n",
      "WARNING:deepchem.feat.base_classes:Failed to featurize datapoint 659, [Ba+2]. Appending empty array\n",
      "WARNING:deepchem.feat.base_classes:Exception message: More than one atom should be present in the molecule for this featurizer to work.\n",
      "WARNING:deepchem.feat.base_classes:Failed to featurize datapoint 985, [TlH2+]. Appending empty array\n",
      "WARNING:deepchem.feat.base_classes:Exception message: More than one atom should be present in the molecule for this featurizer to work.\n",
      "WARNING:deepchem.feat.base_classes:Failed to featurize datapoint 1423, [Cr+3]. Appending empty array\n",
      "WARNING:deepchem.feat.base_classes:Exception message: More than one atom should be present in the molecule for this featurizer to work.\n",
      "WARNING:deepchem.feat.base_classes:Failed to featurize datapoint 1534, [Fe+2]. Appending empty array\n",
      "WARNING:deepchem.feat.base_classes:Exception message: More than one atom should be present in the molecule for this featurizer to work.\n",
      "WARNING:deepchem.feat.base_classes:Failed to featurize datapoint 1722, [Co+2]. Appending empty array\n",
      "WARNING:deepchem.feat.base_classes:Exception message: More than one atom should be present in the molecule for this featurizer to work.\n",
      "WARNING:deepchem.feat.base_classes:Failed to featurize datapoint 1933, [PbH2+2]. Appending empty array\n",
      "WARNING:deepchem.feat.base_classes:Exception message: More than one atom should be present in the molecule for this featurizer to work.\n",
      "WARNING:deepchem.feat.base_classes:Failed to featurize datapoint 2147, [Fe+3]. Appending empty array\n",
      "WARNING:deepchem.feat.base_classes:Exception message: More than one atom should be present in the molecule for this featurizer to work.\n",
      "WARNING:deepchem.feat.base_classes:Failed to featurize datapoint 2251, [Cu+2]. Appending empty array\n",
      "WARNING:deepchem.feat.base_classes:Exception message: More than one atom should be present in the molecule for this featurizer to work.\n",
      "WARNING:deepchem.feat.base_classes:Failed to featurize datapoint 2760, [Cd+2]. Appending empty array\n",
      "WARNING:deepchem.feat.base_classes:Exception message: More than one atom should be present in the molecule for this featurizer to work.\n",
      "WARNING:deepchem.feat.base_classes:Failed to featurize datapoint 2832, [SnH2+2]. Appending empty array\n",
      "WARNING:deepchem.feat.base_classes:Exception message: More than one atom should be present in the molecule for this featurizer to work.\n",
      "WARNING:deepchem.feat.base_classes:Failed to featurize datapoint 4024, [Mn+2]. Appending empty array\n",
      "WARNING:deepchem.feat.base_classes:Exception message: More than one atom should be present in the molecule for this featurizer to work.\n",
      "WARNING:deepchem.feat.base_classes:Failed to featurize datapoint 4375, [Be+2]. Appending empty array\n",
      "WARNING:deepchem.feat.base_classes:Exception message: More than one atom should be present in the molecule for this featurizer to work.\n",
      "WARNING:deepchem.feat.base_classes:Failed to featurize datapoint 4611, [Zn+2]. Appending empty array\n",
      "WARNING:deepchem.feat.base_classes:Exception message: More than one atom should be present in the molecule for this featurizer to work.\n",
      "WARNING:deepchem.feat.base_classes:Failed to featurize datapoint 5942, [Br-].[Na+]. Appending empty array\n",
      "WARNING:deepchem.feat.base_classes:Exception message: tuple index out of range\n",
      "WARNING:deepchem.feat.base_classes:Failed to featurize datapoint 6477, [Ca+2].[Cl-].[Cl-]. Appending empty array\n",
      "WARNING:deepchem.feat.base_classes:Exception message: tuple index out of range\n",
      "WARNING:deepchem.feat.base_classes:Failed to featurize datapoint 6547, [SbH6+3]. Appending empty array\n",
      "WARNING:deepchem.feat.base_classes:Exception message: More than one atom should be present in the molecule for this featurizer to work.\n",
      "WARNING:deepchem.feat.base_classes:Failed to featurize datapoint 6717, [Ni+2]. Appending empty array\n",
      "WARNING:deepchem.feat.base_classes:Exception message: More than one atom should be present in the molecule for this featurizer to work.\n",
      "/usr/local/lib/python3.9/dist-packages/deepchem/feat/base_classes.py:323: VisibleDeprecationWarning: Creating an ndarray from ragged nested sequences (which is a list-or-tuple of lists-or-tuples-or ndarrays with different lengths or shapes) is deprecated. If you meant to do this, you must specify 'dtype=object' when creating the ndarray.\n",
      "  return np.asarray(features)\n",
      "[16:24:09] WARNING: not removing hydrogen atom without neighbors\n"
     ]
    }
   ],
   "source": [
    "tox21_tasks4b, tox21_datasets4b, transformers4b = dc.molnet.load_tox21(featurizer=dc.feat.MolGraphConvFeaturizer(use_edges=True))\n",
    "train_dataset4b, valid_dataset4b, test_dataset4b = tox21_datasets4b"
   ]
  },
  {
   "cell_type": "markdown",
   "metadata": {
    "id": "flAdih1FOXbi"
   },
   "source": [
    "# **Load pre-trained Attentive FP model**"
   ]
  },
  {
   "cell_type": "code",
   "execution_count": 10,
   "metadata": {
    "colab": {
     "base_uri": "https://localhost:8080/"
    },
    "id": "yjafS4Re80D3",
    "outputId": "bae7868e-1fbc-4ba0-add5-e87da5dbbc05"
   },
   "outputs": [
    {
     "name": "stderr",
     "output_type": "stream",
     "text": [
      "DGL backend not selected or invalid.  Assuming PyTorch for now.\n"
     ]
    },
    {
     "name": "stdout",
     "output_type": "stream",
     "text": [
      "Setting the default backend to \"pytorch\". You can change it in the ~/.dgl/config.json file or export the DGLBACKEND environment variable.  Valid options are: pytorch, mxnet, tensorflow (all lowercase)\n"
     ]
    }
   ],
   "source": [
    "afp_reload=dc.models.AttentiveFPModel(n_tasks=12, batch_size=50, mode='classification', learning_rate=0.001, random_state=2, model_dir='AFPmodels')\n",
    "afp_reload.restore()"
   ]
  },
  {
   "cell_type": "markdown",
   "metadata": {
    "id": "2I7RZgNyOgae"
   },
   "source": [
    "# **Confirm pre-trained model behaves as expected**"
   ]
  },
  {
   "cell_type": "code",
   "execution_count": 11,
   "metadata": {
    "colab": {
     "base_uri": "https://localhost:8080/"
    },
    "id": "c-AIluc-FXpk",
    "outputId": "3fe9de3c-5a10-4271-c1c5-e6e9f23899d6"
   },
   "outputs": [
    {
     "name": "stderr",
     "output_type": "stream",
     "text": [
      "/usr/local/lib/python3.9/dist-packages/dgl/backend/pytorch/tensor.py:445: UserWarning: TypedStorage is deprecated. It will be removed in the future and UntypedStorage will be the only storage class. This should only matter to you if you are using storages directly.  To access UntypedStorage directly, use tensor.untyped_storage() instead of tensor.storage()\n",
      "  assert input.numel() == input.storage().size(), (\n",
      "/usr/local/lib/python3.9/dist-packages/dgl/backend/pytorch/tensor.py:445: UserWarning: TypedStorage is deprecated. It will be removed in the future and UntypedStorage will be the only storage class. This should only matter to you if you are using storages directly.  To access UntypedStorage directly, use tensor.untyped_storage() instead of tensor.storage()\n",
      "  assert input.numel() == input.storage().size(), (\n"
     ]
    },
    {
     "name": "stdout",
     "output_type": "stream",
     "text": [
      "Train scores:  {'mean-roc_auc_score': 0.9494640406963315, 'mean-balanced_accuracy_score': 0.8890099034450766}\n",
      "Test scores:  {'mean-roc_auc_score': 0.7111218616110121, 'mean-balanced_accuracy_score': 0.6587147134430827}\n"
     ]
    }
   ],
   "source": [
    "metrics = [dc.metrics.Metric(dc.metrics.roc_auc_score, np.mean, mode=\"classification\"),dc.metrics.Metric(dc.metrics.balanced_accuracy_score, np.mean, mode=\"classification\")]\n",
    "afp_train_scores = afp_reload.evaluate(train_dataset4b, metrics, transformers4b)\n",
    "afp_test_scores = afp_reload.evaluate(test_dataset4b, metrics, transformers4b)\n",
    "print('Train scores: ', afp_train_scores)\n",
    "print('Test scores: ', afp_test_scores)"
   ]
  },
  {
   "cell_type": "markdown",
   "metadata": {
    "id": "67pk-QadOqcq"
   },
   "source": [
    "# **Sample 1000 molecules from Tox21 to use as inputs for idea generation**"
   ]
  },
  {
   "cell_type": "code",
   "execution_count": 37,
   "metadata": {
    "id": "E3T4xIk2iCoi"
   },
   "outputs": [],
   "source": [
    "tox21_sample = tox21_df.sample(1000)"
   ]
  },
  {
   "cell_type": "markdown",
   "metadata": {
    "id": "WKPeQZp_O7ly"
   },
   "source": [
    "# **Generate ideas based on 1000 sample molecules and tabulate various metrics if not already available (takes ~1 hr to run)**"
   ]
  },
  {
   "cell_type": "code",
   "execution_count": 71,
   "metadata": {
    "id": "ODYQuBstFh8c"
   },
   "outputs": [],
   "source": [
    "if os.path.exists('../data/AFP_IdeaGenStats.csv') and os.path.exists('../data/IdeaGenSuccessRate.csv'):\n",
    "  ideaGenReload = pd.read_csv(\"../data/AFP_IdeaGenStats.csv\")\n",
    "  success_rate_df = pd.read_csv(\"../data/IdeaGenSuccessRate.csv\")\n",
    "else:\n",
    "  featurizer = dc.feat.MolGraphConvFeaturizer(use_edges=True)\n",
    "  improvement_counts = []\n",
    "  idea_counts = []\n",
    "  input_qed_scores = []\n",
    "  avg_delta_qed = []\n",
    "  std_delta_qed = []\n",
    "  max_delta_qed = []\n",
    "  max_qed = []\n",
    "  avg_qed = []\n",
    "  std_qed = []\n",
    "  failed_count = 0\n",
    "  nontox_count = 0\n",
    "\n",
    "  for idx, input in tox21_sample.iterrows():\n",
    "    if (input['atom_count'] > 1) and (\".\" not in input['smiles']):\n",
    "      try:\n",
    "        s_featurized = featurizer.featurize(input['smiles'])\n",
    "        preds = afp_reload.predict_on_batch(s_featurized, transformers4b)\n",
    "        preds_df = pd.DataFrame(preds[0], columns=['Prob False','Prob Tox'])\n",
    "        preds_df['Assay'] = tox21_tasks4b\n",
    "        input_tox_count = np.sum(preds_df['Prob Tox'] > 0.6)\n",
    "      except:\n",
    "        failed_count+=1\n",
    "        pass\n",
    "\n",
    "    ideas_df = generate_ideas(input['smiles'], database=\"AllHepG2.mmpdb\")\n",
    "    num_ideas = len(ideas_df)\n",
    "    if input_tox_count == 0:\n",
    "      nontox_count += 1\n",
    "    elif num_ideas > 0:\n",
    "      try:\n",
    "        ideas_df.reset_index(inplace=True)\n",
    "        featurized_ideas = featurizer.featurize(ideas_df['SMILES'])\n",
    "        idea_preds = afp_reload.predict_on_batch(featurized_ideas, transformers=transformers4b)\n",
    "        toxicity_counts = [np.sum(pred>0.6) for pred in idea_preds[:,:,1]]\n",
    "        ideas_df['toxicity_counts'] = toxicity_counts\n",
    "        ideas_df['delta_qed'] = ideas_df['qed'] - input['qed']\n",
    "\n",
    "        input_qed_scores.append(input['qed'])\n",
    "        idea_counts.append(num_ideas)\n",
    "        avg_qed.append(np.median(ideas_df['qed']))\n",
    "        max_qed.append(np.max(ideas_df['qed']))\n",
    "        std_qed.append(np.std(ideas_df['qed']))\n",
    "        avg_delta_qed.append(np.median(ideas_df['delta_qed']))\n",
    "        max_delta_qed.append(np.max(ideas_df['delta_qed']))\n",
    "        std_delta_qed.append(np.std(ideas_df['delta_qed']))\n",
    "        improvement_counts.append((ideas_df['toxicity_counts'] < input_tox_count).sum())\n",
    "      except:\n",
    "        failed_count += 1\n",
    "        pass\n",
    "    else:\n",
    "      failed_count += 1\n",
    "  ideaGenStats = pd.DataFrame(list(zip(input_qed_scores, idea_counts,avg_qed,max_qed,std_qed,avg_delta_qed,max_delta_qed,std_delta_qed,improvement_counts)),\n",
    "             columns=['input_qed','idea_count','avg_qed','max_qed','std_qed','avg_delta_qed','max_delta_qed','std_delta_qed','imrovement_counts'])\n",
    "  ideaGenStats.to_csv('../data/AFP_IdeaGenStats.csv')\n",
    "  ideaGenReload = pd.read_csv(\"../data/AFP_IdeaGenStats.csv\")\n",
    "  no_improvement_count = (ideaGenReload['imrovement_counts'] < 1).sum()\n",
    "  improvement_count = (ideaGenReload['imrovement_counts'] >= 1).sum()\n",
    "  success_rate_df = pd.DataFrame([improvement_count,nontox_count,failed_count,no_improvement_count, ], index=['Improved\\n Predicted Tox','Non-toxic input','Failed','No improvement'],columns=['count'])\n",
    "  success_rate_df.reset_index(inplace=True) \n",
    "  success_rate_df.to_csv('../data/IdeaGenSuccessRate.csv')"
   ]
  },
  {
   "cell_type": "markdown",
   "metadata": {
    "id": "AtawNOr8PGGo"
   },
   "source": [
    "# **Create a Pandas dataframe with the idea generation metrics and save it**"
   ]
  },
  {
   "cell_type": "code",
   "execution_count": 72,
   "metadata": {
    "colab": {
     "base_uri": "https://localhost:8080/",
     "height": 472
    },
    "id": "CT9xQINcTK8R",
    "outputId": "1b400a49-88f2-4742-e7c1-50e9376a2087"
   },
   "outputs": [
    {
     "data": {
      "image/png": "[encoded data removed]",
      "text/plain": [
       "<Figure size 640x480 with 1 Axes>"
      ]
     },
     "metadata": {},
     "output_type": "display_data"
    }
   ],
   "source": [
    "ax = sns.histplot(data=ideaGenReload, x='idea_count', color='mediumseagreen')\n",
    "ax.set(xlabel='# of ideas generated', title='Distribution of ideas generated per input structure')\n",
    "plt.axvline(ideaGenReload['idea_count'].median(), c='k', ls='--', lw=2)\n",
    "ax.text(210,80,'On average ' + str(ideaGenReload['idea_count'].median()) + ' ideas generated per input')\n",
    "sns.despine()"
   ]
  },
  {
   "cell_type": "code",
   "execution_count": 73,
   "metadata": {
    "colab": {
     "base_uri": "https://localhost:8080/",
     "height": 493
    },
    "id": "T3GId6eCT3qe",
    "outputId": "21e6b743-b817-4364-eea2-32ecb6be75bc"
   },
   "outputs": [
    {
     "data": {
      "image/png": "[encoded data removed]",
      "text/plain": [
       "<Figure size 640x480 with 1 Axes>"
      ]
     },
     "metadata": {},
     "output_type": "display_data"
    }
   ],
   "source": [
    "ax = sns.histplot(data=ideaGenReload, x='max_delta_qed', color='mediumseagreen')\n",
    "ax.set(xlabel='Max improvement in druglikeness', title='Distribution of max improvement in druglikeness \\namong all ideas generated for given input')\n",
    "plt.axvline(ideaGenReload['max_delta_qed'].median(), c='k', ls='--', lw=2)\n",
    "median_max_improvement = ideaGenReload['max_delta_qed'].median()\n",
    "ax.text(0.22,80,'On average ' + f'{median_max_improvement:2.2f}' + ' max improvement\\n in QED score')\n",
    "sns.despine()"
   ]
  },
  {
   "cell_type": "code",
   "execution_count": 78,
   "metadata": {
    "colab": {
     "base_uri": "https://localhost:8080/",
     "height": 472
    },
    "id": "Vsm87a59XZDG",
    "outputId": "760a95b1-5c5f-472b-dfc5-94624b0b61fd"
   },
   "outputs": [
    {
     "data": {
      "image/png": "[encoded data removed]",
      "text/plain": [
       "<Figure size 640x480 with 1 Axes>"
      ]
     },
     "metadata": {},
     "output_type": "display_data"
    }
   ],
   "source": [
    "ax = sns.histplot(data=ideaGenReload, x='imrovement_counts')\n",
    "ax.set(xlabel='# of ideas with improved predicted toxicity', title='Distribution of number of ideas with improved predicted potency')\n",
    "median_improvecount = ideaGenReload['imrovement_counts'].median()\n",
    "plt.axvline(median_improvecount, c='k', ls='--', lw=2)\n",
    "ax.text(median_improvecount+15,80,'On average ' + str(median_improvecount) + ' ideas predicted to improve potency per input')\n",
    "sns.despine()"
   ]
  },
  {
   "cell_type": "code",
   "execution_count": 75,
   "metadata": {
    "id": "E1zIHnRvD9Mc"
   },
   "outputs": [],
   "source": [
    "success_rate_df['frac'] = success_rate_df['count']/success_rate_df['count'].sum()"
   ]
  },
  {
   "cell_type": "code",
   "execution_count": 76,
   "metadata": {
    "id": "BYbGc3iYAUsR"
   },
   "outputs": [],
   "source": [
    "def percent_str(x):\n",
    "  return '{0:.1%}'.format(x)"
   ]
  },
  {
   "cell_type": "code",
   "execution_count": 77,
   "metadata": {
    "colab": {
     "base_uri": "https://localhost:8080/",
     "height": 449
    },
    "id": "rrTbsFpnSIr-",
    "outputId": "5c1a98bf-4754-406e-e763-89f465a2da6f"
   },
   "outputs": [
    {
     "data": {
      "image/png": "[encoded data removed]",
      "text/plain": [
       "<Figure size 640x480 with 1 Axes>"
      ]
     },
     "metadata": {},
     "output_type": "display_data"
    }
   ],
   "source": [
    "ax = sns.barplot(data=success_rate_df, x='count',y='index', palette=sns.color_palette('colorblind'))\n",
    "ax.set(title='Evaluation of idea generation \\nfor 1000 random input molecules')\n",
    "ax.text(success_rate_df.iloc[0,2] + 10, 0, percent_str(success_rate_df.iloc[0,3])+'\\n('+str(success_rate_df.iloc[0,2])+')')\n",
    "ax.text(success_rate_df.iloc[1,2] + 10, 1, percent_str(success_rate_df.iloc[1,3])+'\\n('+str(success_rate_df.iloc[1,2])+')')\n",
    "ax.text(success_rate_df.iloc[2,2] + 10, 2, percent_str(success_rate_df.iloc[2,3])+'\\n('+str(success_rate_df.iloc[2,2])+')')\n",
    "ax.text(success_rate_df.iloc[3,2] + 10, 3, percent_str(success_rate_df.iloc[3,3])+'\\n('+str(success_rate_df.iloc[3,2])+')')\n",
    "ax.set(xlabel=None)\n",
    "ax.set(ylabel=None)\n",
    "plt.xticks([])\n",
    "sns.despine(bottom=True)"
   ]
  }
 ],
 "metadata": {
  "colab": {
   "provenance": []
  },
  "kernelspec": {
   "display_name": "Python 3 (ipykernel)",
   "language": "python",
   "name": "python3"
  },
  "language_info": {
   "codemirror_mode": {
    "name": "ipython",
    "version": 3
   },
   "file_extension": ".py",
   "mimetype": "text/x-python",
   "name": "python",
   "nbconvert_exporter": "python",
   "pygments_lexer": "ipython3",
   "version": "3.10.7"
  }
 },
 "nbformat": 4,
 "nbformat_minor": 1
}
