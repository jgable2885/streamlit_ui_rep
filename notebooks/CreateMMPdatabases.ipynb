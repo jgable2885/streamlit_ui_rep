{
 "cells": [
  {
   "cell_type": "markdown",
   "id": "3ac69e14",
   "metadata": {},
   "source": [
    "## Installs and imports"
   ]
  },
  {
   "cell_type": "code",
   "execution_count": 1,
   "id": "1a2a7fee",
   "metadata": {},
   "outputs": [
    {
     "name": "stdout",
     "output_type": "stream",
     "text": [
      "Requirement already satisfied: mmpdb in /Library/Frameworks/Python.framework/Versions/3.10/lib/python3.10/site-packages (2.1)\n",
      "\n",
      "\u001b[1m[\u001b[0m\u001b[34;49mnotice\u001b[0m\u001b[1;39;49m]\u001b[0m\u001b[39;49m A new release of pip is available: \u001b[0m\u001b[31;49m23.0.1\u001b[0m\u001b[39;49m -> \u001b[0m\u001b[32;49m23.1\u001b[0m\n",
      "\u001b[1m[\u001b[0m\u001b[34;49mnotice\u001b[0m\u001b[1;39;49m]\u001b[0m\u001b[39;49m To update, run: \u001b[0m\u001b[32;49mpip install --upgrade pip\u001b[0m\n"
     ]
    }
   ],
   "source": [
    "!pip install mmpdb"
   ]
  },
  {
   "cell_type": "code",
   "execution_count": 2,
   "id": "f4535acb",
   "metadata": {},
   "outputs": [],
   "source": [
    "import pandas as pd\n",
    "import numpy as np"
   ]
  },
  {
   "cell_type": "markdown",
   "id": "cc264f38",
   "metadata": {},
   "source": [
    "## Read in HepG2 data \n",
    "Data are from ChEMBL, see RetrieveChEMBLData.ipynb for details"
   ]
  },
  {
   "cell_type": "code",
   "execution_count": 3,
   "id": "d32c541d",
   "metadata": {},
   "outputs": [],
   "source": [
    "output_df = pd.read_csv('hepg2_output_df.csv')"
   ]
  },
  {
   "cell_type": "code",
   "execution_count": 4,
   "id": "f53b86b8",
   "metadata": {},
   "outputs": [
    {
     "data": {
      "text/html": [
       "<div>\n",
       "<style scoped>\n",
       "    .dataframe tbody tr th:only-of-type {\n",
       "        vertical-align: middle;\n",
       "    }\n",
       "\n",
       "    .dataframe tbody tr th {\n",
       "        vertical-align: top;\n",
       "    }\n",
       "\n",
       "    .dataframe thead th {\n",
       "        text-align: right;\n",
       "    }\n",
       "</style>\n",
       "<table border=\"1\" class=\"dataframe\">\n",
       "  <thead>\n",
       "    <tr style=\"text-align: right;\">\n",
       "      <th></th>\n",
       "      <th>Unnamed: 0</th>\n",
       "      <th>molecule_chembl_id</th>\n",
       "      <th>IC50</th>\n",
       "      <th>units</th>\n",
       "      <th>smiles</th>\n",
       "    </tr>\n",
       "  </thead>\n",
       "  <tbody>\n",
       "    <tr>\n",
       "      <th>0</th>\n",
       "      <td>0</td>\n",
       "      <td>CHEMBL1315471</td>\n",
       "      <td>35481.3</td>\n",
       "      <td>nM</td>\n",
       "      <td>CCN(CC(=O)NCc1cccs1)S(=O)(=O)c1cc(NC(C)=O)ccc1OC</td>\n",
       "    </tr>\n",
       "    <tr>\n",
       "      <th>1</th>\n",
       "      <td>1</td>\n",
       "      <td>CHEMBL1511566</td>\n",
       "      <td>2818.4</td>\n",
       "      <td>nM</td>\n",
       "      <td>O=C(CN(c1ccc(F)cc1)S(=O)(=O)c1ccc2c(c1)OCCO2)N...</td>\n",
       "    </tr>\n",
       "    <tr>\n",
       "      <th>2</th>\n",
       "      <td>2</td>\n",
       "      <td>CHEMBL1904108</td>\n",
       "      <td>35481.3</td>\n",
       "      <td>nM</td>\n",
       "      <td>O=C(CCN1C(=O)/C(=C\\c2ccccc2F)SC1=S)N1CCOCC1</td>\n",
       "    </tr>\n",
       "    <tr>\n",
       "      <th>3</th>\n",
       "      <td>3</td>\n",
       "      <td>CHEMBL1369478</td>\n",
       "      <td>35481.3</td>\n",
       "      <td>nM</td>\n",
       "      <td>COc1cc2c(cc1OC)C(c1ccc(-c3ccc(Cl)c(Cl)c3)o1)=NCC2</td>\n",
       "    </tr>\n",
       "    <tr>\n",
       "      <th>4</th>\n",
       "      <td>4</td>\n",
       "      <td>CHEMBL1200833</td>\n",
       "      <td>12589.3</td>\n",
       "      <td>nM</td>\n",
       "      <td>CNCC(O)c1ccc(OC(=O)C(C)(C)C)c(OC(=O)C(C)(C)C)c...</td>\n",
       "    </tr>\n",
       "    <tr>\n",
       "      <th>...</th>\n",
       "      <td>...</td>\n",
       "      <td>...</td>\n",
       "      <td>...</td>\n",
       "      <td>...</td>\n",
       "      <td>...</td>\n",
       "    </tr>\n",
       "    <tr>\n",
       "      <th>58130</th>\n",
       "      <td>58130</td>\n",
       "      <td>CHEMBL1894857</td>\n",
       "      <td>35481.3</td>\n",
       "      <td>nM</td>\n",
       "      <td>CCCCCCCCC(c1nc2ccccc2[nH]1)N1CCN=C1c1cc2ccccc2...</td>\n",
       "    </tr>\n",
       "    <tr>\n",
       "      <th>58131</th>\n",
       "      <td>58131</td>\n",
       "      <td>CHEMBL1871947</td>\n",
       "      <td>6309.6</td>\n",
       "      <td>nM</td>\n",
       "      <td>CN=C(S)N1CCN(C(=O)c2ccco2)CC1</td>\n",
       "    </tr>\n",
       "    <tr>\n",
       "      <th>58132</th>\n",
       "      <td>58132</td>\n",
       "      <td>CHEMBL3189459</td>\n",
       "      <td>707.9</td>\n",
       "      <td>nM</td>\n",
       "      <td>CNC(=S)N/N=C/c1cn(Cc2ccc(C)cc2)c2ccccc12</td>\n",
       "    </tr>\n",
       "    <tr>\n",
       "      <th>58133</th>\n",
       "      <td>58133</td>\n",
       "      <td>CHEMBL1378106</td>\n",
       "      <td>7943.3</td>\n",
       "      <td>nM</td>\n",
       "      <td>Cc1ccc(Cn2c(CO)cnc2SCC(=O)Nc2ccc(C)c(Cl)c2)cc1</td>\n",
       "    </tr>\n",
       "    <tr>\n",
       "      <th>58134</th>\n",
       "      <td>58134</td>\n",
       "      <td>CHEMBL1606903</td>\n",
       "      <td>35481.3</td>\n",
       "      <td>nM</td>\n",
       "      <td>Cc1[nH]c(-c2ccc(F)cc2)cc1C(=O)N1CCN(c2cccc(Cl)...</td>\n",
       "    </tr>\n",
       "  </tbody>\n",
       "</table>\n",
       "<p>58135 rows × 5 columns</p>\n",
       "</div>"
      ],
      "text/plain": [
       "       Unnamed: 0 molecule_chembl_id     IC50 units  \\\n",
       "0               0      CHEMBL1315471  35481.3    nM   \n",
       "1               1      CHEMBL1511566   2818.4    nM   \n",
       "2               2      CHEMBL1904108  35481.3    nM   \n",
       "3               3      CHEMBL1369478  35481.3    nM   \n",
       "4               4      CHEMBL1200833  12589.3    nM   \n",
       "...           ...                ...      ...   ...   \n",
       "58130       58130      CHEMBL1894857  35481.3    nM   \n",
       "58131       58131      CHEMBL1871947   6309.6    nM   \n",
       "58132       58132      CHEMBL3189459    707.9    nM   \n",
       "58133       58133      CHEMBL1378106   7943.3    nM   \n",
       "58134       58134      CHEMBL1606903  35481.3    nM   \n",
       "\n",
       "                                                  smiles  \n",
       "0       CCN(CC(=O)NCc1cccs1)S(=O)(=O)c1cc(NC(C)=O)ccc1OC  \n",
       "1      O=C(CN(c1ccc(F)cc1)S(=O)(=O)c1ccc2c(c1)OCCO2)N...  \n",
       "2            O=C(CCN1C(=O)/C(=C\\c2ccccc2F)SC1=S)N1CCOCC1  \n",
       "3      COc1cc2c(cc1OC)C(c1ccc(-c3ccc(Cl)c(Cl)c3)o1)=NCC2  \n",
       "4      CNCC(O)c1ccc(OC(=O)C(C)(C)C)c(OC(=O)C(C)(C)C)c...  \n",
       "...                                                  ...  \n",
       "58130  CCCCCCCCC(c1nc2ccccc2[nH]1)N1CCN=C1c1cc2ccccc2...  \n",
       "58131                      CN=C(S)N1CCN(C(=O)c2ccco2)CC1  \n",
       "58132           CNC(=S)N/N=C/c1cn(Cc2ccc(C)cc2)c2ccccc12  \n",
       "58133     Cc1ccc(Cn2c(CO)cnc2SCC(=O)Nc2ccc(C)c(Cl)c2)cc1  \n",
       "58134  Cc1[nH]c(-c2ccc(F)cc2)cc1C(=O)N1CCN(c2cccc(Cl)...  \n",
       "\n",
       "[58135 rows x 5 columns]"
      ]
     },
     "execution_count": 4,
     "metadata": {},
     "output_type": "execute_result"
    }
   ],
   "source": [
    "output_df"
   ]
  },
  {
   "cell_type": "markdown",
   "id": "04276674",
   "metadata": {},
   "source": [
    "## Create a tab-delimited smiles file (.smi) as input for mmpdb"
   ]
  },
  {
   "cell_type": "code",
   "execution_count": 6,
   "id": "c03f13ea",
   "metadata": {},
   "outputs": [],
   "source": [
    "output_df.loc[:,[\"smiles\",\"molecule_chembl_id\"]].to_csv(\"AllHepG2Cmpds.smi\", sep=\"\\t\", header=False, index=False)"
   ]
  },
  {
   "cell_type": "markdown",
   "id": "c2b12b53",
   "metadata": {},
   "source": [
    "## Fragment the HepG2 data (this takes a while)"
   ]
  },
  {
   "cell_type": "code",
   "execution_count": 7,
   "id": "c2080301",
   "metadata": {},
   "outputs": [
    {
     "name": "stdout",
     "output_type": "stream",
     "text": [
      "Preparing record 13691[18:06:31] WARNING: not removing hydrogen atom without neighbors\n",
      "                                      \r"
     ]
    }
   ],
   "source": [
    "!mmpdb fragment AllHepG2Cmpds.smi -o AllHepG2Cmpds.fragdb"
   ]
  },
  {
   "cell_type": "markdown",
   "id": "50483d44",
   "metadata": {},
   "source": [
    "## Compute the pCC50 to use as part of mmpdb analysis and save to csv"
   ]
  },
  {
   "cell_type": "code",
   "execution_count": 8,
   "id": "09ad8328",
   "metadata": {},
   "outputs": [],
   "source": [
    "import math\n",
    "def compute_pIC50(IC50):\n",
    "     return -math.log10(IC50*1e-9)"
   ]
  },
  {
   "cell_type": "code",
   "execution_count": 9,
   "id": "d1c493c3",
   "metadata": {},
   "outputs": [],
   "source": [
    "output_df['pCC50'] = output_df['IC50'].apply(compute_pIC50)"
   ]
  },
  {
   "cell_type": "code",
   "execution_count": 10,
   "id": "5c5ac75b",
   "metadata": {},
   "outputs": [],
   "source": [
    "data_df = output_df.loc[:,[\"molecule_chembl_id\",\"pCC50\"]]\n",
    "data_df.rename(columns={\"molecule_chembl_id\":\"id\"}, inplace=True)\n",
    "data_df.to_csv(\"AllHepG2Data.csv\",sep=\"\\t\", index=False)"
   ]
  },
  {
   "cell_type": "markdown",
   "id": "710f76bf",
   "metadata": {},
   "source": [
    "## Create the mmp database using pCC50 values"
   ]
  },
  {
   "cell_type": "code",
   "execution_count": 11,
   "id": "66a31dd2",
   "metadata": {},
   "outputs": [
    {
     "name": "stdout",
     "output_type": "stream",
     "text": [
      "WARNING: Neither ujson nor cjson installed. Falling back to Python's slower built-in json decoder.\n",
      "                                                                   \r"
     ]
    }
   ],
   "source": [
    "!mmpdb index AllHepG2Cmpds.fragdb -o AllHepG2.mmpdb --properties AllHepG2Data.csv"
   ]
  },
  {
   "cell_type": "markdown",
   "id": "db451329",
   "metadata": {},
   "source": [
    "## Repeat the above steps but this time with Tox21 data"
   ]
  },
  {
   "cell_type": "code",
   "execution_count": 12,
   "id": "36665e70",
   "metadata": {},
   "outputs": [
    {
     "data": {
      "text/html": [
       "<div>\n",
       "<style scoped>\n",
       "    .dataframe tbody tr th:only-of-type {\n",
       "        vertical-align: middle;\n",
       "    }\n",
       "\n",
       "    .dataframe tbody tr th {\n",
       "        vertical-align: top;\n",
       "    }\n",
       "\n",
       "    .dataframe thead th {\n",
       "        text-align: right;\n",
       "    }\n",
       "</style>\n",
       "<table border=\"1\" class=\"dataframe\">\n",
       "  <thead>\n",
       "    <tr style=\"text-align: right;\">\n",
       "      <th></th>\n",
       "      <th>NR-AR</th>\n",
       "      <th>NR-AR-LBD</th>\n",
       "      <th>NR-AhR</th>\n",
       "      <th>NR-Aromatase</th>\n",
       "      <th>NR-ER</th>\n",
       "      <th>NR-ER-LBD</th>\n",
       "      <th>NR-PPAR-gamma</th>\n",
       "      <th>SR-ARE</th>\n",
       "      <th>SR-ATAD5</th>\n",
       "      <th>SR-HSE</th>\n",
       "      <th>SR-MMP</th>\n",
       "      <th>SR-p53</th>\n",
       "      <th>mol_id</th>\n",
       "      <th>smiles</th>\n",
       "    </tr>\n",
       "  </thead>\n",
       "  <tbody>\n",
       "    <tr>\n",
       "      <th>0</th>\n",
       "      <td>0.0</td>\n",
       "      <td>0.0</td>\n",
       "      <td>1.0</td>\n",
       "      <td>NaN</td>\n",
       "      <td>NaN</td>\n",
       "      <td>0.0</td>\n",
       "      <td>0.0</td>\n",
       "      <td>1.0</td>\n",
       "      <td>0.0</td>\n",
       "      <td>0.0</td>\n",
       "      <td>0.0</td>\n",
       "      <td>0.0</td>\n",
       "      <td>TOX3021</td>\n",
       "      <td>CCOc1ccc2nc(S(N)(=O)=O)sc2c1</td>\n",
       "    </tr>\n",
       "    <tr>\n",
       "      <th>1</th>\n",
       "      <td>0.0</td>\n",
       "      <td>0.0</td>\n",
       "      <td>0.0</td>\n",
       "      <td>0.0</td>\n",
       "      <td>0.0</td>\n",
       "      <td>0.0</td>\n",
       "      <td>0.0</td>\n",
       "      <td>NaN</td>\n",
       "      <td>0.0</td>\n",
       "      <td>NaN</td>\n",
       "      <td>0.0</td>\n",
       "      <td>0.0</td>\n",
       "      <td>TOX3020</td>\n",
       "      <td>CCN1C(=O)NC(c2ccccc2)C1=O</td>\n",
       "    </tr>\n",
       "    <tr>\n",
       "      <th>2</th>\n",
       "      <td>NaN</td>\n",
       "      <td>NaN</td>\n",
       "      <td>NaN</td>\n",
       "      <td>NaN</td>\n",
       "      <td>NaN</td>\n",
       "      <td>NaN</td>\n",
       "      <td>NaN</td>\n",
       "      <td>0.0</td>\n",
       "      <td>NaN</td>\n",
       "      <td>0.0</td>\n",
       "      <td>NaN</td>\n",
       "      <td>NaN</td>\n",
       "      <td>TOX3024</td>\n",
       "      <td>CC[C@]1(O)CC[C@H]2[C@@H]3CCC4=CCCC[C@@H]4[C@H]...</td>\n",
       "    </tr>\n",
       "    <tr>\n",
       "      <th>3</th>\n",
       "      <td>0.0</td>\n",
       "      <td>0.0</td>\n",
       "      <td>0.0</td>\n",
       "      <td>0.0</td>\n",
       "      <td>0.0</td>\n",
       "      <td>0.0</td>\n",
       "      <td>0.0</td>\n",
       "      <td>NaN</td>\n",
       "      <td>0.0</td>\n",
       "      <td>NaN</td>\n",
       "      <td>0.0</td>\n",
       "      <td>0.0</td>\n",
       "      <td>TOX3027</td>\n",
       "      <td>CCCN(CC)C(CC)C(=O)Nc1c(C)cccc1C</td>\n",
       "    </tr>\n",
       "    <tr>\n",
       "      <th>4</th>\n",
       "      <td>0.0</td>\n",
       "      <td>0.0</td>\n",
       "      <td>0.0</td>\n",
       "      <td>0.0</td>\n",
       "      <td>0.0</td>\n",
       "      <td>0.0</td>\n",
       "      <td>0.0</td>\n",
       "      <td>0.0</td>\n",
       "      <td>0.0</td>\n",
       "      <td>0.0</td>\n",
       "      <td>0.0</td>\n",
       "      <td>0.0</td>\n",
       "      <td>TOX20800</td>\n",
       "      <td>CC(O)(P(=O)(O)O)P(=O)(O)O</td>\n",
       "    </tr>\n",
       "  </tbody>\n",
       "</table>\n",
       "</div>"
      ],
      "text/plain": [
       "   NR-AR  NR-AR-LBD  NR-AhR  NR-Aromatase  NR-ER  NR-ER-LBD  NR-PPAR-gamma  \\\n",
       "0    0.0        0.0     1.0           NaN    NaN        0.0            0.0   \n",
       "1    0.0        0.0     0.0           0.0    0.0        0.0            0.0   \n",
       "2    NaN        NaN     NaN           NaN    NaN        NaN            NaN   \n",
       "3    0.0        0.0     0.0           0.0    0.0        0.0            0.0   \n",
       "4    0.0        0.0     0.0           0.0    0.0        0.0            0.0   \n",
       "\n",
       "   SR-ARE  SR-ATAD5  SR-HSE  SR-MMP  SR-p53    mol_id  \\\n",
       "0     1.0       0.0     0.0     0.0     0.0   TOX3021   \n",
       "1     NaN       0.0     NaN     0.0     0.0   TOX3020   \n",
       "2     0.0       NaN     0.0     NaN     NaN   TOX3024   \n",
       "3     NaN       0.0     NaN     0.0     0.0   TOX3027   \n",
       "4     0.0       0.0     0.0     0.0     0.0  TOX20800   \n",
       "\n",
       "                                              smiles  \n",
       "0                       CCOc1ccc2nc(S(N)(=O)=O)sc2c1  \n",
       "1                          CCN1C(=O)NC(c2ccccc2)C1=O  \n",
       "2  CC[C@]1(O)CC[C@H]2[C@@H]3CCC4=CCCC[C@@H]4[C@H]...  \n",
       "3                    CCCN(CC)C(CC)C(=O)Nc1c(C)cccc1C  \n",
       "4                          CC(O)(P(=O)(O)O)P(=O)(O)O  "
      ]
     },
     "execution_count": 12,
     "metadata": {},
     "output_type": "execute_result"
    }
   ],
   "source": [
    "tox21_df = pd.read_csv(\"tox21.csv.gz\")\n",
    "tox21_df.head()"
   ]
  },
  {
   "cell_type": "code",
   "execution_count": 13,
   "id": "c867aa5a",
   "metadata": {},
   "outputs": [],
   "source": [
    "tox21_df.loc[:,[\"smiles\",\"mol_id\"]].to_csv(\"tox21.smi\", sep=\"\\t\", header=False, index=False)"
   ]
  },
  {
   "cell_type": "code",
   "execution_count": 14,
   "id": "d5695057",
   "metadata": {},
   "outputs": [
    {
     "name": "stdout",
     "output_type": "stream",
     "text": [
      "Preparing record 0[18:41:22] WARNING: not removing hydrogen atom without neighbors\n",
      "                                   \r"
     ]
    }
   ],
   "source": [
    "!mmpdb fragment tox21.smi -o Tox21.fragdb"
   ]
  },
  {
   "cell_type": "markdown",
   "id": "d3272c0a",
   "metadata": {},
   "source": [
    "## Compute the number of tox count (combined_tox) to use as a property for mmpdb"
   ]
  },
  {
   "cell_type": "code",
   "execution_count": 15,
   "id": "f78abbc7",
   "metadata": {},
   "outputs": [],
   "source": [
    "tox21_data_df = tox21_df.loc[:,[\"mol_id\",'NR-AR', 'NR-AR-LBD', 'NR-AhR', 'NR-Aromatase', 'NR-ER', 'NR-ER-LBD',\n",
    "       'NR-PPAR-gamma', 'SR-ARE', 'SR-ATAD5', 'SR-HSE', 'SR-MMP', 'SR-p53']]\n",
    "tox21_data_df['combined_tox'] = tox21_data_df.loc[:,['NR-AR', 'NR-AR-LBD', 'NR-AhR', 'NR-Aromatase', 'NR-ER', 'NR-ER-LBD',\n",
    "       'NR-PPAR-gamma', 'SR-ARE', 'SR-ATAD5', 'SR-HSE', 'SR-MMP', 'SR-p53']].sum(axis=1)\n",
    "tox21_data_df.rename(columns={\"mol_id\":\"id\"}, inplace=True)\n",
    "tox21_data_df.loc[:,[\"id\",\"combined_tox\"]].to_csv(\"Tox21Data.csv\",sep=\"\\t\", index=False)"
   ]
  },
  {
   "cell_type": "code",
   "execution_count": 16,
   "id": "c68e27c6",
   "metadata": {},
   "outputs": [
    {
     "name": "stdout",
     "output_type": "stream",
     "text": [
      "WARNING: Neither ujson nor cjson installed. Falling back to Python's slower built-in json decoder.\n",
      "                                                                            \r"
     ]
    }
   ],
   "source": [
    "!mmpdb index Tox21.fragdb -o Tox21.mmpdb --properties Tox21Data.csv"
   ]
  },
  {
   "cell_type": "code",
   "execution_count": null,
   "id": "e2d115a5",
   "metadata": {},
   "outputs": [],
   "source": []
  }
 ],
 "metadata": {
  "kernelspec": {
   "display_name": "Python 3 (ipykernel)",
   "language": "python",
   "name": "python3"
  },
  "language_info": {
   "codemirror_mode": {
    "name": "ipython",
    "version": 3
   },
   "file_extension": ".py",
   "mimetype": "text/x-python",
   "name": "python",
   "nbconvert_exporter": "python",
   "pygments_lexer": "ipython3",
   "version": "3.10.7"
  }
 },
 "nbformat": 4,
 "nbformat_minor": 5
}
